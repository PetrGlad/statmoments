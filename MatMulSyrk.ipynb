{
 "cells": [
  {
   "cell_type": "code",
   "execution_count": 1,
   "id": "9f1c1354-4580-472b-8c4c-e2fe06cd31f3",
   "metadata": {},
   "outputs": [
    {
     "data": {
      "text/plain": [
       "(<CUDA Device 0>, <Stream 0 (device -1)>)"
      ]
     },
     "execution_count": 1,
     "metadata": {},
     "output_type": "execute_result"
    }
   ],
   "source": [
    "import sympy as sy\n",
    "import numpy as np\n",
    "import scipy as sp\n",
    "import scipy.linalg.blas as sblas\n",
    "import cupy \n",
    "cupy.cuda.Device(), cupy.cuda.get_current_stream()"
   ]
  },
  {
   "cell_type": "code",
   "execution_count": 2,
   "id": "f3e38ff6-f30f-45a3-9598-d0f314d6b985",
   "metadata": {},
   "outputs": [
    {
     "data": {
      "text/plain": [
       "array([[3., 4., 5.],\n",
       "       [6., 7., 8.]])"
      ]
     },
     "execution_count": 2,
     "metadata": {},
     "output_type": "execute_result"
    }
   ],
   "source": [
    "A = np.array([[3, 4, 5], [6, 7, 8]], dtype=float)\n",
    "A"
   ]
  },
  {
   "cell_type": "code",
   "execution_count": 108,
   "id": "5f192515-0cbd-4b8b-a41a-9227a974a70d",
   "metadata": {},
   "outputs": [
    {
     "data": {
      "text/plain": [
       "array([[14, 32],\n",
       "       [32, 77]])"
      ]
     },
     "execution_count": 108,
     "metadata": {},
     "output_type": "execute_result"
    }
   ],
   "source": [
    "np.matmul(A, A.T)"
   ]
  },
  {
   "cell_type": "code",
   "execution_count": 109,
   "id": "f00b6604-2663-4b33-b5c5-ebe500fe4ff0",
   "metadata": {},
   "outputs": [
    {
     "data": {
      "text/plain": [
       "array([[17, 22, 27],\n",
       "       [22, 29, 36],\n",
       "       [27, 36, 45]])"
      ]
     },
     "execution_count": 109,
     "metadata": {},
     "output_type": "execute_result"
    }
   ],
   "source": [
    "np.matmul(A.T, A)"
   ]
  },
  {
   "cell_type": "code",
   "execution_count": 40,
   "id": "3147133c-be07-4387-b4a8-c6574884330a",
   "metadata": {},
   "outputs": [
    {
     "data": {
      "text/plain": [
       "array([[10., 20.],\n",
       "       [30., 40.]])"
      ]
     },
     "execution_count": 40,
     "metadata": {},
     "output_type": "execute_result"
    }
   ],
   "source": [
    "C0 = np.array([[10, 20], [30, 40]], dtype=float)\n",
    "C0"
   ]
  },
  {
   "cell_type": "code",
   "execution_count": 110,
   "id": "871340d9-6aef-43a9-910f-770b996c49b9",
   "metadata": {},
   "outputs": [
    {
     "data": {
      "text/plain": [
       "array([[ 24.,  52.],\n",
       "       [ 62., 117.]])"
      ]
     },
     "execution_count": 110,
     "metadata": {},
     "output_type": "execute_result"
    }
   ],
   "source": [
    "C = np.copy(C0)\n",
    "assert np.matmul(A, A.T).shape == C.shape\n",
    "def dsyrk_full_ref(alfa, A, beta, C):\n",
    "    return alfa * np.matmul(A, A.T) + beta * C\n",
    "C_ref_full = dsyrk_full_ref(1.0, A, 1.0, C)\n",
    "C_ref_full"
   ]
  },
  {
   "cell_type": "code",
   "execution_count": 115,
   "id": "e159a6eb-4838-42b3-8f3c-406f39807ff2",
   "metadata": {},
   "outputs": [
    {
     "name": "stdout",
     "output_type": "stream",
     "text": [
      "c in\n",
      " [[10. 20.]\n",
      " [30. 40.]]\n",
      "False\n",
      "c out\n",
      " [[ 24.  20.]\n",
      " [ 62. 117.]]\n",
      "c after\n",
      " [[10. 20.]\n",
      " [30. 40.]]\n"
     ]
    },
    {
     "data": {
      "text/plain": [
       "array([[False, False],\n",
       "       [False, False]])"
      ]
     },
     "execution_count": 115,
     "metadata": {},
     "output_type": "execute_result"
    }
   ],
   "source": [
    "# Passing in row-major matrix, in trans=False, in [lower=False] \n",
    "C = np.copy(C0)\n",
    "print('c in\\n', C)\n",
    "alpha=1.0\n",
    "beta=1.0\n",
    "print(np.isfortran(C))\n",
    "# C2 = sblas.dsyrk(alpha, A, beta, C, trans=False, lower=False, overwrite_c=True)\n",
    "c_out = sblas.dsyrk(alpha, A.T, beta, C, trans=True, lower=True, overwrite_c=True)\n",
    "print('c out\\n', c_out)\n",
    "print('c after\\n', C)\n",
    "C == C_ref_full"
   ]
  },
  {
   "cell_type": "code",
   "execution_count": 65,
   "id": "83155107-7ca3-4afd-b585-d2883520977f",
   "metadata": {},
   "outputs": [
    {
     "name": "stdout",
     "output_type": "stream",
     "text": [
      "c in\n",
      " [[10. 20.]\n",
      " [30. 40.]]\n",
      "False\n",
      "c out\n",
      " [[ 60. 116.]\n",
      " [ 20. 189.]]\n",
      "c t after\n",
      " [[ 60. 116.]\n",
      " [ 20. 189.]]\n",
      "c after\n",
      " [[ 60.  20.]\n",
      " [116. 189.]]\n"
     ]
    },
    {
     "data": {
      "text/plain": [
       "array([[ True, False],\n",
       "       [ True,  True]])"
      ]
     },
     "execution_count": 65,
     "metadata": {},
     "output_type": "execute_result"
    }
   ],
   "source": [
    "# Passing in row-major matrix, in trans=False, in [lower=True]\n",
    "C = np.copy(C0)\n",
    "print('c in\\n', C)\n",
    "alpha=1.0\n",
    "beta=1.0\n",
    "print(np.isfortran(C))\n",
    "# C2 = sblas.dsyrk(alpha, A, beta, C, trans=False, lower=False, overwrite_c=True)\n",
    "c_out = sblas.dsyrk(alpha, A.T, beta, C.T, trans=True, lower=False, overwrite_c=True)\n",
    "print('c out\\n', c_out)\n",
    "print('c t after\\n', C.T)\n",
    "print('c after\\n', C)\n",
    "C == C_ref_full"
   ]
  },
  {
   "cell_type": "code",
   "execution_count": 103,
   "id": "e5ebaf73-e97a-4b41-8f7b-c47ea06e3d51",
   "metadata": {},
   "outputs": [],
   "source": [
    "# Different sizes\n",
    "A = np.arange(1, 1 + 6).reshape((2,3))\n",
    "C = \n",
    "# c_out = sblas.dsyrk(alpha, A.T, beta, C.T, trans=True, lower=False, overwrite_c=True)"
   ]
  },
  {
   "cell_type": "code",
   "execution_count": 89,
   "id": "49da232c-0695-4a57-a76c-9769f8a72908",
   "metadata": {},
   "outputs": [
    {
     "name": "stdout",
     "output_type": "stream",
     "text": [
      "[[45. 54. 63.]\n",
      " [54. 65. 76.]\n",
      " [63. 76. 89.]]\n",
      "[[ 52.  62.  72.]\n",
      " [ 64.  76.  88.]\n",
      " [ 76.  90. 104.]]\n"
     ]
    },
    {
     "data": {
      "text/plain": [
       "array([[ 7,  8,  9],\n",
       "       [10, 11, 12],\n",
       "       [13, 14, 15]])"
      ]
     },
     "execution_count": 89,
     "metadata": {},
     "output_type": "execute_result"
    }
   ],
   "source": [
    "# TRANSPOSING A\n",
    "print(np.matmul(A.T, A))\n",
    "C3 = np.arange(7, 7+3*3).reshape((3,3))\n",
    "C3_ref_full = dsyrk_full_ref(1.0, A.T, 1.0, C3)\n",
    "print(C3_ref_full)\n",
    "C3"
   ]
  },
  {
   "cell_type": "code",
   "execution_count": 100,
   "id": "3c00c656-c085-4185-841d-02449c52f6ff",
   "metadata": {},
   "outputs": [
    {
     "name": "stdout",
     "output_type": "stream",
     "text": [
      "c in\n",
      " [[ 7  8  9]\n",
      " [10 11 12]\n",
      " [13 14 15]]\n",
      "True\n"
     ]
    },
    {
     "ename": "ValueError",
     "evalue": "failed in converting 2nd keyword `c' of _fblas.dsyrk to C/Fortran array",
     "output_type": "error",
     "traceback": [
      "\u001b[0;31m---------------------------------------------------------------------------\u001b[0m",
      "\u001b[0;31mValueError\u001b[0m                                Traceback (most recent call last)",
      "\u001b[0;31mValueError\u001b[0m: 0-th dimension must be fixed to 2 but got 3\n",
      "\nThe above exception was the direct cause of the following exception:\n",
      "\u001b[0;31mValueError\u001b[0m                                Traceback (most recent call last)",
      "Cell \u001b[0;32mIn[100], line 5\u001b[0m\n\u001b[1;32m      3\u001b[0m \u001b[38;5;28mprint\u001b[39m(\u001b[38;5;124m'\u001b[39m\u001b[38;5;124mc in\u001b[39m\u001b[38;5;130;01m\\n\u001b[39;00m\u001b[38;5;124m'\u001b[39m, C)\n\u001b[1;32m      4\u001b[0m \u001b[38;5;28mprint\u001b[39m(np\u001b[38;5;241m.\u001b[39misfortran(C))\n\u001b[0;32m----> 5\u001b[0m c_out \u001b[38;5;241m=\u001b[39m \u001b[43msblas\u001b[49m\u001b[38;5;241;43m.\u001b[39;49m\u001b[43mdsyrk\u001b[49m\u001b[43m(\u001b[49m\u001b[38;5;241;43m1.0\u001b[39;49m\u001b[43m,\u001b[49m\u001b[43m \u001b[49m\u001b[43mA\u001b[49m\u001b[43m,\u001b[49m\u001b[43m \u001b[49m\u001b[38;5;241;43m1.0\u001b[39;49m\u001b[43m,\u001b[49m\u001b[43m \u001b[49m\u001b[43mC\u001b[49m\u001b[43m,\u001b[49m\u001b[43m \u001b[49m\u001b[43mtrans\u001b[49m\u001b[38;5;241;43m=\u001b[39;49m\u001b[38;5;28;43;01mFalse\u001b[39;49;00m\u001b[43m,\u001b[49m\u001b[43m \u001b[49m\u001b[43mlower\u001b[49m\u001b[38;5;241;43m=\u001b[39;49m\u001b[38;5;28;43;01mFalse\u001b[39;49;00m\u001b[43m,\u001b[49m\u001b[43m \u001b[49m\u001b[43moverwrite_c\u001b[49m\u001b[38;5;241;43m=\u001b[39;49m\u001b[38;5;28;43;01mTrue\u001b[39;49;00m\u001b[43m)\u001b[49m\n\u001b[1;32m      6\u001b[0m \u001b[38;5;28mprint\u001b[39m(\u001b[38;5;124m'\u001b[39m\u001b[38;5;124mc out\u001b[39m\u001b[38;5;130;01m\\n\u001b[39;00m\u001b[38;5;124m'\u001b[39m, c_out)\n\u001b[1;32m      7\u001b[0m \u001b[38;5;28mprint\u001b[39m(\u001b[38;5;124m'\u001b[39m\u001b[38;5;124mc t after\u001b[39m\u001b[38;5;130;01m\\n\u001b[39;00m\u001b[38;5;124m'\u001b[39m, C\u001b[38;5;241m.\u001b[39mT)\n",
      "\u001b[0;31mValueError\u001b[0m: failed in converting 2nd keyword `c' of _fblas.dsyrk to C/Fortran array"
     ]
    }
   ],
   "source": [
    "# Passing in row-major matrix, in [trans=True], in [lower=False] ===========\n",
    "C = np.copy(C3, order='F')\n",
    "print('c in\\n', C)\n",
    "print(np.isfortran(C))\n",
    "c_out = sblas.dsyrk(1.0, A, 1.0, C, trans=False, lower=False, overwrite_c=True)\n",
    "print('c out\\n', c_out)\n",
    "print('c t after\\n', C.T)\n",
    "print('c after\\n', C)\n",
    "assert c_out is C\n",
    "C == C3_ref_full"
   ]
  },
  {
   "cell_type": "code",
   "execution_count": 86,
   "id": "69d15ad5-e139-4ebd-972f-d889bb796036",
   "metadata": {},
   "outputs": [
    {
     "data": {
      "text/plain": [
       "array([[23., 34., 45.],\n",
       "       [ 4., 57., 70.],\n",
       "       [ 7.,  8., 95.]])"
      ]
     },
     "execution_count": 86,
     "metadata": {},
     "output_type": "execute_result"
    }
   ],
   "source": [
    "A = np.array([[3, 4, 5]], dtype=float)\n",
    "C = np.array([[1, 2, 3], [4, 5, 6], [7, 8, 9]], dtype=float)\n",
    "triangle_indices = np.triu_indices(C.shape[0], 0)\n",
    "C[triangle_indices] = (2.0 * np.matmul(A.T, A) + 5.0 * C)[triangle_indices]\n",
    "C"
   ]
  },
  {
   "cell_type": "code",
   "execution_count": 89,
   "id": "85430d58-0a16-4e00-95d8-701505b09c52",
   "metadata": {},
   "outputs": [
    {
     "data": {
      "text/plain": [
       "array([['a', 'a', 'a'],\n",
       "       ['a', 'r', 'r']], dtype='<U1')"
      ]
     },
     "execution_count": 89,
     "metadata": {},
     "output_type": "execute_result"
    }
   ],
   "source": [
    "rng = np.random.default_rng()\n",
    "rng.random((3, 4)) \n",
    "rng.choice(['a', 'r'], size=(2,3))"
   ]
  },
  {
   "cell_type": "code",
   "execution_count": 100,
   "id": "d1b75da0-cc52-4f60-a148-21128da0fdd2",
   "metadata": {},
   "outputs": [
    {
     "data": {
      "text/plain": [
       "array([[ 1,  2,  3],\n",
       "       [-1,  5,  6],\n",
       "       [-1, -1,  9]])"
      ]
     },
     "execution_count": 100,
     "metadata": {},
     "output_type": "execute_result"
    }
   ],
   "source": [
    "a = np.arange(9).reshape((3,3)) + 1\n",
    "iu = np.triu_indices_from(a, 0)\n",
    "il = np.tril_indices_from(a, -1)\n",
    "# np.triu(a, 0)\n",
    "a[il] = -1\n",
    "a"
   ]
  },
  {
   "cell_type": "code",
   "execution_count": 3,
   "id": "707cf7b7",
   "metadata": {},
   "outputs": [
    {
     "data": {
      "text/plain": [
       "array([[ 42,  45,  48],\n",
       "       [150, 162, 174],\n",
       "       [258, 279, 300]])"
      ]
     },
     "execution_count": 3,
     "metadata": {},
     "output_type": "execute_result"
    }
   ],
   "source": [
    "import cupy\n",
    "\n",
    "x = cupy.array(range(9)).reshape((3,3))\n",
    "y = cupy.array(range(9, 18)).reshape((3,3))\n",
    "expected = cupy.matmul(x, y)\n",
    "cupy.cuda.Device().synchronize()\n",
    "\n",
    "stream = cupy.cuda.stream.Stream()\n",
    "with stream:\n",
    "    for k in range(10000):\n",
    "        z = cupy.matmul(x, y)\n",
    "stream.synchronize()\n",
    "cupy.testing.assert_array_equal(z, expected)\n",
    "\n",
    "stream = cupy.cuda.stream.Stream()\n",
    "stream.use()\n",
    "z = cupy.matmul(x, y)\n",
    "stream.synchronize()\n",
    "cupy.testing.assert_array_equal(z, expected)\n",
    "z"
   ]
  },
  {
   "cell_type": "code",
   "execution_count": 3,
   "id": "e6a30de9-38fa-4d7e-b7f6-32b181342e87",
   "metadata": {},
   "outputs": [
    {
     "data": {
      "text/plain": [
       "array([[ 0.,  2.,  4.],\n",
       "       [ 0.,  4., 10.]], dtype=float32)"
      ]
     },
     "execution_count": 3,
     "metadata": {},
     "output_type": "execute_result"
    }
   ],
   "source": [
    "import cupy\n",
    "import cupy.cublas as cupy_blas\n",
    "import numpy as np\n",
    "\n",
    "x = cupy.arange(6, dtype='f').reshape(2, 3)\n",
    "y = cupy.arange(3, dtype='f')\n",
    "kernel = cupy.ElementwiseKernel(\n",
    "     'float32 x, float32 y', 'float32 z',\n",
    "     '''\n",
    "     if (x - 2 > y) {\n",
    "       z = x * y;\n",
    "     } else {\n",
    "       z = x + y;\n",
    "     }\n",
    "     ''', 'my_kernel')\n",
    "kernel(x, y)"
   ]
  },
  {
   "cell_type": "code",
   "execution_count": 8,
   "id": "e5942339-c4f6-4d73-a810-149d1077c449",
   "metadata": {},
   "outputs": [
    {
     "name": "stdout",
     "output_type": "stream",
     "text": [
      "[[0. 1. 2.]\n",
      " [3. 4. 5.]\n",
      " [6. 7. 8.]]\n",
      "[[0. 0. 0.]\n",
      " [0. 0. 0.]\n",
      " [0. 0. 0.]]\n",
      "[[  5.  14.  23.]\n",
      " [  0.  50.  86.]\n",
      " [  0.   0. 149.]]\n",
      "[[ 15.  42.  69.]\n",
      " [  0. 150. 258.]\n",
      " [  0.   0. 447.]]\n"
     ]
    }
   ],
   "source": [
    "a = cupy.arange(9, dtype=float).reshape(3, 3)\n",
    "c = cupy.zeros(9, dtype=float).reshape(3, 3)\n",
    "print(a)\n",
    "print(c)\n",
    "\n",
    "cu_a = cupy.asarray(a)\n",
    "cu_c = cupy.asarray(c)\n",
    "\n",
    "cupy_blas.syrk(trans='N', a=cu_a, out=cu_c, alpha=1.0, beta=1.0)\n",
    "print(cu_c)\n",
    "cupy_blas.syrk(trans='N', a=cu_a, out=cu_c, beta=1.0)\n",
    "cupy_blas.syrk(trans='N', a=cu_a, out=cu_c, beta=1.0)\n",
    "#cupy_blas.syrk(trans='N', a=cu_a, out=cu_c, beta=1.0)\n",
    "#cupy_blas.syrk(trans='N', a=cu_a, out=cu_c, beta=1.0)\n",
    "print(cu_c)"
   ]
  },
  {
   "cell_type": "code",
   "execution_count": 9,
   "id": "6e3492e5-26cd-445e-9253-bf695c26ab9f",
   "metadata": {},
   "outputs": [
    {
     "name": "stdout",
     "output_type": "stream",
     "text": [
      "[[ 15.  42.  69.]\n",
      " [  0. 150. 258.]\n",
      " [  0.   0. 447.]]\n"
     ]
    }
   ],
   "source": [
    "c = cupy.asnumpy(cu_c)\n",
    "print(c)"
   ]
  }
 ],
 "metadata": {
  "kernelspec": {
   "display_name": "statmoments-venv",
   "language": "python",
   "name": "statmoments-venv"
  },
  "language_info": {
   "codemirror_mode": {
    "name": "ipython",
    "version": 3
   },
   "file_extension": ".py",
   "mimetype": "text/x-python",
   "name": "python",
   "nbconvert_exporter": "python",
   "pygments_lexer": "ipython3",
   "version": "3.10.12"
  }
 },
 "nbformat": 4,
 "nbformat_minor": 5
}
