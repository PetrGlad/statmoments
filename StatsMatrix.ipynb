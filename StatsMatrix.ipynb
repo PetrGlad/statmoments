{
 "cells": [
  {
   "cell_type": "code",
   "execution_count": 3,
   "id": "45e76cbd",
   "metadata": {},
   "outputs": [],
   "source": [
    "import sympy as sy\n",
    "import numpy as np"
   ]
  },
  {
   "cell_type": "code",
   "execution_count": 5,
   "id": "4a758c9f",
   "metadata": {},
   "outputs": [],
   "source": [
    "x1, mx1, x2, mx2 = sy.var('x1, mu_x1, x2, mu_x2', real=True)\n",
    "a, b = sy.var('a, b', positive=True, integer=True)"
   ]
  },
  {
   "cell_type": "code",
   "execution_count": 6,
   "id": "23bf4685",
   "metadata": {},
   "outputs": [],
   "source": [
    "def m_ab(x1, a, x2, b):\n",
    "    \"\"\"Co-moment of x1**a and x2**b\"\"\" \n",
    "    return sy.expand((x1 - mx1)**a * (x2 - mx2)**b)"
   ]
  },
  {
   "cell_type": "code",
   "execution_count": 7,
   "id": "cfffd1be",
   "metadata": {},
   "outputs": [
    {
     "data": {
      "text/latex": [
       "$\\displaystyle - \\mu_{r}^{2} \\mu_{t}^{3} + 3 \\mu_{r}^{2} \\mu_{t}^{2} t - 3 \\mu_{r}^{2} \\mu_{t} t^{2} + \\mu_{r}^{2} t^{3} + 2 \\mu_{r} \\mu_{t}^{3} r - 6 \\mu_{r} \\mu_{t}^{2} r t + 6 \\mu_{r} \\mu_{t} r t^{2} - 2 \\mu_{r} r t^{3} - \\mu_{t}^{3} r^{2} + 3 \\mu_{t}^{2} r^{2} t - 3 \\mu_{t} r^{2} t^{2} + r^{2} t^{3}$"
      ],
      "text/plain": [
       "-mu_r**2*mu_t**3 + 3*mu_r**2*mu_t**2*t - 3*mu_r**2*mu_t*t**2 + mu_r**2*t**3 + 2*mu_r*mu_t**3*r - 6*mu_r*mu_t**2*r*t + 6*mu_r*mu_t*r*t**2 - 2*mu_r*r*t**3 - mu_t**3*r**2 + 3*mu_t**2*r**2*t - 3*mu_t*r**2*t**2 + r**2*t**3"
      ]
     },
     "execution_count": 7,
     "metadata": {},
     "output_type": "execute_result"
    }
   ],
   "source": [
    "# An version of the expression that uses stohastic vars. `E` is handled as a linear function,\n",
    "# but in our case it does not help much as expectations have only one argument each.\n",
    "# Also ideally r and t should be declared as sample valaues to get complete expression (top level Sum).\n",
    "from sympy.stats import P, E, variance, Die, Normal\n",
    "from sympy.stats.rv import RandomSymbol\n",
    "mr, dr = sy.var('mu_r, dr')\n",
    "mt, dt = sy.var('mu_t, dt')\n",
    "r = RandomSymbol('r')\n",
    "t = RandomSymbol('t')\n",
    "sy.expand(E((r - E(r))**2*(t - E(t))**3)) \\\n",
    "    .replace(E(r), mr)  \\\n",
    "    .replace(E(t), mt)\n",
    "# There seem to be no standard way to sort members by powers (sp.Poly does print them in a\n",
    "# consistent way but that order is lost when the sum expression is extracted from it)"
   ]
  },
  {
   "cell_type": "code",
   "execution_count": 8,
   "id": "50fa6839",
   "metadata": {},
   "outputs": [
    {
     "data": {
      "text/plain": [
       "([(x0, mu_x1**2),\n",
       "  (x1, mu_x2**4),\n",
       "  (x2, x2**4),\n",
       "  (x3, x1**2),\n",
       "  (x4, mu_x1*x1),\n",
       "  (x5, 2*x4),\n",
       "  (x6, mu_x2*x2**3),\n",
       "  (x7, 8*x4),\n",
       "  (x8, mu_x2**3*x2),\n",
       "  (x9, 4*x0),\n",
       "  (x10, 4*x3),\n",
       "  (x11, mu_x2**2*x2**2),\n",
       "  (x12, 6*x11)],\n",
       " [x0*x1 + x0*x12 + x0*x2 + x1*x3 - x1*x5 - x10*x6 - x10*x8 - 12*x11*x4 + x12*x3 + x2*x3 - x2*x5 + x6*x7 - x6*x9 + x7*x8 - x8*x9])"
      ]
     },
     "execution_count": 8,
     "metadata": {},
     "output_type": "execute_result"
    }
   ],
   "source": [
    "# This version extracts common expressions, but in our case it does not seem to be a significant optimization.\n",
    "# Need to benchmark it to see the impact.\n",
    "(common_vals, exprs) =  sy.cse(sy.simplify(m_ab(x1, 2, x2, 4)))\n",
    "(common_vals, exprs)"
   ]
  },
  {
   "cell_type": "code",
   "execution_count": 9,
   "id": "b6f12bfe",
   "metadata": {},
   "outputs": [
    {
     "name": "stdout",
     "output_type": "stream",
     "text": [
      "def _lambdifygenerated(x1, mu_x1, x2, mu_x2):\n",
      "    return mu_x1**2*mu_x2**4 - 4*mu_x1**2*mu_x2**3*x2 + 6*mu_x1**2*mu_x2**2*x2**2 - 4*mu_x1**2*mu_x2*x2**3 + mu_x1**2*x2**4 - 2*mu_x1*mu_x2**4*x1 + 8*mu_x1*mu_x2**3*x1*x2 - 12*mu_x1*mu_x2**2*x1*x2**2 + 8*mu_x1*mu_x2*x1*x2**3 - 2*mu_x1*x1*x2**4 + mu_x2**4*x1**2 - 4*mu_x2**3*x1**2*x2 + 6*mu_x2**2*x1**2*x2**2 - 4*mu_x2*x1**2*x2**3 + x1**2*x2**4\n",
      "\n"
     ]
    },
    {
     "data": {
      "text/plain": [
       "0.006399999999757711"
      ]
     },
     "execution_count": 9,
     "metadata": {},
     "output_type": "execute_result"
    }
   ],
   "source": [
    "# An example creating a callable function in sympy. It requires sympy dependency and will have to \n",
    "# have a parameter for each member (x1^a1*x2^b2).\n",
    "# https://docs.sympy.org/latest/modules/utilities/lambdify.html\n",
    "import inspect\n",
    "lf = sy.lambdify((x1, mx1, x2, mx2), sy.simplify(m_ab(x1, 2, x2, 4)), \"numpy\")\n",
    "print(inspect.getsource(lf))\n",
    "lf(23, 21, 1.1, 1.3)"
   ]
  },
  {
   "cell_type": "code",
   "execution_count": 10,
   "id": "cf9b749e",
   "metadata": {},
   "outputs": [
    {
     "data": {
      "text/plain": [
       "'lambda x1,mu_x1,x2,mu_x2: (mu_x1**2*mu_x2**4 - 4*mu_x1**2*mu_x2**3*x2 + 6*mu_x1**2*mu_x2**2*x2**2 - 4*mu_x1**2*mu_x2*x2**3 + mu_x1**2*x2**4 - 2*mu_x1*mu_x2**4*x1 + 8*mu_x1*mu_x2**3*x1*x2 - 12*mu_x1*mu_x2**2*x1*x2**2 + 8*mu_x1*mu_x2*x1*x2**3 - 2*mu_x1*x1*x2**4 + mu_x2**4*x1**2 - 4*mu_x2**3*x1**2*x2 + 6*mu_x2**2*x1**2*x2**2 - 4*mu_x2*x1**2*x2**3 + x1**2*x2**4)'"
      ]
     },
     "execution_count": 10,
     "metadata": {},
     "output_type": "execute_result"
    }
   ],
   "source": [
    "# The method that lambdify uses. Does not do any namespace subtitutions, though \n",
    "# (like adapting/converting operations to numpy or scypy).\n",
    "from sympy.utilities.lambdify import lambdastr\n",
    "lambdastr([x1, mx1, x2, mx2], sy.simplify(m_ab(x1, 2, x2, 4)))"
   ]
  },
  {
   "cell_type": "code",
   "execution_count": 59,
   "id": "3ef8d5b0",
   "metadata": {},
   "outputs": [],
   "source": [
    "# ScyPy matrices https://docs.sympy.org/latest/tutorials/intro-tutorial/matrices.html"
   ]
  },
  {
   "cell_type": "code",
   "execution_count": 48,
   "id": "5e74b076",
   "metadata": {},
   "outputs": [],
   "source": [
    "nv = 5\n",
    "na = 2\n",
    "nb = 3\n",
    "powers = [[0] * nb] * na\n",
    "for a in range(na):\n",
    "    for b in range(nb):\n",
    "        powers[a][b] = np.zeros((nv, nv))\n",
    "# print(powers)"
   ]
  },
  {
   "cell_type": "code",
   "execution_count": 93,
   "id": "4a7631f8",
   "metadata": {},
   "outputs": [
    {
     "name": "stdout",
     "output_type": "stream",
     "text": [
      "[[145.15854404  -4.19695487  -2.76441156  -2.70612867  24.8616544 ]\n",
      " [ -4.19695487 153.5124429   26.33765884   9.57634836  48.85337473]\n",
      " [ -2.76441156  26.33765884 127.57002124  41.54439012  84.82353029]\n",
      " [ -2.70612867   9.57634836  41.54439012 111.19425501  53.18970077]\n",
      " [ 24.8616544   48.85337473  84.82353029  53.18970077 149.29342026]]\n"
     ]
    }
   ],
   "source": [
    "sample = np.random.normal(1, 2, size=(33, nv)) # Samples in rows\n",
    "Xt = sample.T\n",
    "X = sample\n",
    "for a in range(na):\n",
    "    Xt X = np.matmul(X.T, X)\n",
    "    for b in range(nb):\n",
    "        assert XX.shape == (nv, nv)\n",
    "        powers[a][b] = XX\n",
    "    \n",
    "print(XX)"
   ]
  },
  {
   "cell_type": "code",
   "execution_count": 78,
   "id": "b03b8823",
   "metadata": {},
   "outputs": [
    {
     "data": {
      "text/plain": [
       "array([[ 2.6759676 ,  2.90212223,  1.42116702,  3.19111171, -0.17306954],\n",
       "       [ 1.35639147,  1.05314554,  0.27627967, -1.13525339, -0.99277624],\n",
       "       [-0.92769366, -0.47412928,  3.58729789,  4.22027257, -0.87973768],\n",
       "       [ 3.29083784,  2.1147043 , -1.10866322, -2.36153713,  3.07037793]])"
      ]
     },
     "execution_count": 78,
     "metadata": {},
     "output_type": "execute_result"
    }
   ],
   "source": []
  },
  {
   "cell_type": "code",
   "execution_count": 79,
   "id": "cdc6f2b6",
   "metadata": {},
   "outputs": [
    {
     "data": {
      "text/plain": [
       "array([[ 2.6759676 ,  1.35639147, -0.92769366,  3.29083784],\n",
       "       [ 2.90212223,  1.05314554, -0.47412928,  2.1147043 ],\n",
       "       [ 1.42116702,  0.27627967,  3.58729789, -1.10866322],\n",
       "       [ 3.19111171, -1.13525339,  4.22027257, -2.36153713],\n",
       "       [-0.17306954, -0.99277624, -0.87973768,  3.07037793]])"
      ]
     },
     "execution_count": 79,
     "metadata": {},
     "output_type": "execute_result"
    }
   ],
   "source": [
    "X.T"
   ]
  },
  {
   "cell_type": "code",
   "execution_count": null,
   "id": "d08af2c9",
   "metadata": {},
   "outputs": [],
   "source": []
  }
 ],
 "metadata": {
  "kernelspec": {
   "display_name": "Python 3 (ipykernel)",
   "language": "python",
   "name": "python3"
  },
  "language_info": {
   "codemirror_mode": {
    "name": "ipython",
    "version": 3
   },
   "file_extension": ".py",
   "mimetype": "text/x-python",
   "name": "python",
   "nbconvert_exporter": "python",
   "pygments_lexer": "ipython3",
   "version": "3.10.12"
  }
 },
 "nbformat": 4,
 "nbformat_minor": 5
}
