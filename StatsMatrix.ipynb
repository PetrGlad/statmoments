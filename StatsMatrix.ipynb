{
 "cells": [
  {
   "cell_type": "code",
   "execution_count": 4,
   "id": "45e76cbd",
   "metadata": {},
   "outputs": [],
   "source": [
    "import sympy as sy\n",
    "import numpy as np\n",
    "from sympy.solvers import solve"
   ]
  },
  {
   "cell_type": "code",
   "execution_count": 5,
   "id": "4a758c9f",
   "metadata": {},
   "outputs": [],
   "source": [
    "x1, mx1, x2, mx2 = sy.var('x1, mu_1, x2, mu_2', real=True)\n",
    "a, b = sy.var('a, b', positive=True, integer=True)"
   ]
  },
  {
   "cell_type": "code",
   "execution_count": 6,
   "id": "23bf4685",
   "metadata": {},
   "outputs": [],
   "source": [
    "def m_ab(x1, a, x2, b):\n",
    "    \"\"\"Co-moment of x1**a and x2**b\"\"\" \n",
    "    return sy.expand((x1 - mx1)**a * (x2 - mx2)**b)"
   ]
  },
  {
   "cell_type": "code",
   "execution_count": 7,
   "id": "cfffd1be",
   "metadata": {},
   "outputs": [
    {
     "data": {
      "text/latex": [
       "$\\displaystyle - \\mu_{r}^{2} \\mu_{t}^{3} + 3 \\mu_{r}^{2} \\mu_{t}^{2} t - 3 \\mu_{r}^{2} \\mu_{t} t^{2} + \\mu_{r}^{2} t^{3} + 2 \\mu_{r} \\mu_{t}^{3} r - 6 \\mu_{r} \\mu_{t}^{2} r t + 6 \\mu_{r} \\mu_{t} r t^{2} - 2 \\mu_{r} r t^{3} - \\mu_{t}^{3} r^{2} + 3 \\mu_{t}^{2} r^{2} t - 3 \\mu_{t} r^{2} t^{2} + r^{2} t^{3}$"
      ],
      "text/plain": [
       "-mu_r**2*mu_t**3 + 3*mu_r**2*mu_t**2*t - 3*mu_r**2*mu_t*t**2 + mu_r**2*t**3 + 2*mu_r*mu_t**3*r - 6*mu_r*mu_t**2*r*t + 6*mu_r*mu_t*r*t**2 - 2*mu_r*r*t**3 - mu_t**3*r**2 + 3*mu_t**2*r**2*t - 3*mu_t*r**2*t**2 + r**2*t**3"
      ]
     },
     "execution_count": 7,
     "metadata": {},
     "output_type": "execute_result"
    }
   ],
   "source": [
    "# An version of the expression that uses stohastic vars. `E` is handled as a linear function,\n",
    "# but in our case it does not help much as expectations have only one argument each.\n",
    "# Also ideally r and t should be declared as sample valaues to get complete expression (top level Sum).\n",
    "from sympy.stats import P, E, variance, Die, Normal\n",
    "from sympy.stats.rv import RandomSymbol\n",
    "mr, dr = sy.var('mu_r, dr')\n",
    "mt, dt = sy.var('mu_t, dt')\n",
    "r = RandomSymbol('r')\n",
    "t = RandomSymbol('t')\n",
    "sy.expand(E((r - E(r))**2*(t - E(t))**3)) \\\n",
    "    .replace(E(r), mr)  \\\n",
    "    .replace(E(t), mt)\n",
    "# There seem to be no standard way to sort members by powers (sp.Poly does print them in a\n",
    "# consistent way but that order is lost when the sum expression is extracted from it)"
   ]
  },
  {
   "cell_type": "code",
   "execution_count": 8,
   "id": "50fa6839",
   "metadata": {},
   "outputs": [
    {
     "data": {
      "text/plain": [
       "([(x0, mu_1**2),\n",
       "  (x1, mu_2**4),\n",
       "  (x2, x2**4),\n",
       "  (x3, x1**2),\n",
       "  (x4, mu_1*x1),\n",
       "  (x5, 2*x4),\n",
       "  (x6, mu_2*x2**3),\n",
       "  (x7, 8*x4),\n",
       "  (x8, mu_2**3*x2),\n",
       "  (x9, 4*x0),\n",
       "  (x10, 4*x3),\n",
       "  (x11, mu_2**2*x2**2),\n",
       "  (x12, 6*x11)],\n",
       " [x0*x1 + x0*x12 + x0*x2 + x1*x3 - x1*x5 - x10*x6 - x10*x8 - 12*x11*x4 + x12*x3 + x2*x3 - x2*x5 + x6*x7 - x6*x9 + x7*x8 - x8*x9])"
      ]
     },
     "execution_count": 8,
     "metadata": {},
     "output_type": "execute_result"
    }
   ],
   "source": [
    "# This version extracts common expressions, but in our case it does not seem to be a significant optimization.\n",
    "# Need to benchmark it to see the impact.\n",
    "(common_vals, exprs) =  sy.cse(sy.simplify(m_ab(x1, 2, x2, 4)))\n",
    "(common_vals, exprs)"
   ]
  },
  {
   "cell_type": "code",
   "execution_count": 9,
   "id": "b6f12bfe",
   "metadata": {},
   "outputs": [
    {
     "name": "stdout",
     "output_type": "stream",
     "text": [
      "def _lambdifygenerated(x1, mu_1, x2, mu_2):\n",
      "    return mu_1**2*mu_2**4 - 4*mu_1**2*mu_2**3*x2 + 6*mu_1**2*mu_2**2*x2**2 - 4*mu_1**2*mu_2*x2**3 + mu_1**2*x2**4 - 2*mu_1*mu_2**4*x1 + 8*mu_1*mu_2**3*x1*x2 - 12*mu_1*mu_2**2*x1*x2**2 + 8*mu_1*mu_2*x1*x2**3 - 2*mu_1*x1*x2**4 + mu_2**4*x1**2 - 4*mu_2**3*x1**2*x2 + 6*mu_2**2*x1**2*x2**2 - 4*mu_2*x1**2*x2**3 + x1**2*x2**4\n",
      "\n"
     ]
    },
    {
     "data": {
      "text/plain": [
       "0.006399999999757711"
      ]
     },
     "execution_count": 9,
     "metadata": {},
     "output_type": "execute_result"
    }
   ],
   "source": [
    "# An example creating a callable function in sympy. It requires sympy dependency and will have to \n",
    "# have a parameter for each member (x1^a1*x2^b2).\n",
    "# https://docs.sympy.org/latest/modules/utilities/lambdify.html\n",
    "import inspect\n",
    "lf = sy.lambdify((x1, mx1, x2, mx2), sy.simplify(m_ab(x1, 2, x2, 4)), \"numpy\")\n",
    "print(inspect.getsource(lf))\n",
    "lf(23, 21, 1.1, 1.3)"
   ]
  },
  {
   "cell_type": "code",
   "execution_count": 10,
   "id": "cf9b749e",
   "metadata": {},
   "outputs": [
    {
     "data": {
      "text/plain": [
       "'lambda x1,mu_1,x2,mu_2: (mu_1**2*mu_2**4 - 4*mu_1**2*mu_2**3*x2 + 6*mu_1**2*mu_2**2*x2**2 - 4*mu_1**2*mu_2*x2**3 + mu_1**2*x2**4 - 2*mu_1*mu_2**4*x1 + 8*mu_1*mu_2**3*x1*x2 - 12*mu_1*mu_2**2*x1*x2**2 + 8*mu_1*mu_2*x1*x2**3 - 2*mu_1*x1*x2**4 + mu_2**4*x1**2 - 4*mu_2**3*x1**2*x2 + 6*mu_2**2*x1**2*x2**2 - 4*mu_2*x1**2*x2**3 + x1**2*x2**4)'"
      ]
     },
     "execution_count": 10,
     "metadata": {},
     "output_type": "execute_result"
    }
   ],
   "source": [
    "# The method that lambdify uses. Does not do any namespace subtitutions, though \n",
    "# (like adapting/converting operations to numpy or scypy).\n",
    "from sympy.utilities.lambdify import lambdastr\n",
    "lambdastr([x1, mx1, x2, mx2], sy.simplify(m_ab(x1, 2, x2, 4)))"
   ]
  },
  {
   "cell_type": "markdown",
   "id": "964f95e2",
   "metadata": {},
   "source": [
    "// ScyPy matrices https://docs.sympy.org/latest/tutorials/intro-tutorial/matrices.html"
   ]
  },
  {
   "cell_type": "code",
   "execution_count": 11,
   "id": "5e74b076",
   "metadata": {},
   "outputs": [],
   "source": [
    "nv = 5\n",
    "na = 2\n",
    "nb = 3\n",
    "powers = [[0] * nb] * na\n",
    "for a in range(na):\n",
    "    for b in range(nb):\n",
    "        powers[a][b] = np.zeros((nv, nv))\n",
    "# print(powers)"
   ]
  },
  {
   "cell_type": "code",
   "execution_count": 12,
   "id": "4a7631f8",
   "metadata": {},
   "outputs": [
    {
     "name": "stdout",
     "output_type": "stream",
     "text": [
      "[[153.18605846   2.11515729  46.84432477  -2.48313643   3.53301852]\n",
      " [  2.11515729 145.44897258  39.44217674  34.17641351   4.29193466]\n",
      " [ 46.84432477  39.44217674 233.71707164   3.81280962   3.91681438]\n",
      " [ -2.48313643  34.17641351   3.81280962  84.53409029  -6.4107536 ]\n",
      " [  3.53301852   4.29193466   3.91681438  -6.4107536  188.44432369]]\n"
     ]
    }
   ],
   "source": [
    "sample = np.random.normal(1, 2, size=(33, nv)) # Samples in rows\n",
    "Xt = sample.T\n",
    "X = sample\n",
    "for a in range(na):\n",
    "    XX = np.matmul(X.T, X)\n",
    "    for b in range(nb):\n",
    "        assert XX.shape == (nv, nv)\n",
    "        powers[a][b] = XX\n",
    "    \n",
    "print(XX)"
   ]
  },
  {
   "cell_type": "markdown",
   "id": "57995d27",
   "metadata": {},
   "source": [
    "// Just keeping a note for now. Batched GEMM in cuda (is it in cupy yet?)\n",
    "https://docs.nvidia.com/cuda/cublas/index.html#cublas-t-gemmbatchedm"
   ]
  },
  {
   "cell_type": "code",
   "execution_count": 13,
   "id": "d82d641b",
   "metadata": {},
   "outputs": [],
   "source": [
    "import scipy.linalg.blas as blas"
   ]
  },
  {
   "cell_type": "markdown",
   "id": "2150fb7b",
   "metadata": {},
   "source": [
    "BLAS GEMM \n",
    "https://spec.oneapi.io/versions/latest/elements/oneMKL/source/domains/blas/gemm.html#onemkl-blas-gemm`"
   ]
  },
  {
   "cell_type": "code",
   "execution_count": 23,
   "id": "43308d67",
   "metadata": {},
   "outputs": [
    {
     "name": "stdout",
     "output_type": "stream",
     "text": [
      "c = dgemm(alpha,a,b,[beta,c,trans_a,trans_b,overwrite_c])\n",
      "\n",
      "Wrapper for ``dgemm``.\n",
      "\n",
      "Parameters\n",
      "----------\n",
      "alpha : input float\n",
      "a : input rank-2 array('d') with bounds (lda,ka)\n",
      "b : input rank-2 array('d') with bounds (ldb,kb)\n",
      "\n",
      "Other Parameters\n",
      "----------------\n",
      "beta : input float, optional\n",
      "    Default: 0.0\n",
      "c : input rank-2 array('d') with bounds (m,n)\n",
      "overwrite_c : input int, optional\n",
      "    Default: 0\n",
      "trans_a : input int, optional\n",
      "    Default: 0\n",
      "trans_b : input int, optional\n",
      "    Default: 0\n",
      "\n",
      "Returns\n",
      "-------\n",
      "c : rank-2 array('d') with bounds (m,n)\n",
      "\n"
     ]
    }
   ],
   "source": [
    "# a = blas.dgemm(1.0, a, b, 1.0, c, False, False, True)\n",
    "\n",
    "print(blas.dgemm.__doc__)"
   ]
  },
  {
   "cell_type": "code",
   "execution_count": 46,
   "id": "8cf3dede",
   "metadata": {},
   "outputs": [],
   "source": [
    "a1, a2, a3, b1, b2, b3 = sy.symbols('a1 a2 a3 b1 b2 b3')\n",
    "A1 = sy.Matrix([[a1, a2, a3]])\n",
    "A2 = A1.applyfunc(lambda x: x ** 2)\n",
    "assert A1 != A2 # Verify if matrices are updated in-place.\n",
    "A3 = A1.applyfunc(lambda x: x ** 3)\n",
    "A4 = A1.applyfunc(lambda x: x ** 4)"
   ]
  },
  {
   "cell_type": "code",
   "execution_count": 39,
   "id": "c8c205cb",
   "metadata": {},
   "outputs": [
    {
     "data": {
      "text/latex": [
       "$\\displaystyle \\left[\\begin{matrix}a_{1} & a_{2} & a_{3}\\end{matrix}\\right]$"
      ],
      "text/plain": [
       "Matrix([[a1, a2, a3]])"
      ]
     },
     "execution_count": 39,
     "metadata": {},
     "output_type": "execute_result"
    }
   ],
   "source": [
    "A1"
   ]
  },
  {
   "cell_type": "code",
   "execution_count": 40,
   "id": "1785e453",
   "metadata": {},
   "outputs": [
    {
     "data": {
      "text/latex": [
       "$\\displaystyle \\left[\\begin{matrix}a_{1}^{2} & a_{1} a_{2} & a_{1} a_{3}\\\\a_{1} a_{2} & a_{2}^{2} & a_{2} a_{3}\\\\a_{1} a_{3} & a_{2} a_{3} & a_{3}^{2}\\end{matrix}\\right]$"
      ],
      "text/plain": [
       "Matrix([\n",
       "[a1**2, a1*a2, a1*a3],\n",
       "[a1*a2, a2**2, a2*a3],\n",
       "[a1*a3, a2*a3, a3**2]])"
      ]
     },
     "execution_count": 40,
     "metadata": {},
     "output_type": "execute_result"
    }
   ],
   "source": [
    "A1.T * A1"
   ]
  },
  {
   "cell_type": "code",
   "execution_count": 41,
   "id": "3a55b4a2",
   "metadata": {},
   "outputs": [
    {
     "data": {
      "text/latex": [
       "$\\displaystyle \\left[\\begin{matrix}a_{1}^{3} & a_{1} a_{2}^{2} & a_{1} a_{3}^{2}\\\\a_{1}^{2} a_{2} & a_{2}^{3} & a_{2} a_{3}^{2}\\\\a_{1}^{2} a_{3} & a_{2}^{2} a_{3} & a_{3}^{3}\\end{matrix}\\right]$"
      ],
      "text/plain": [
       "Matrix([\n",
       "[   a1**3, a1*a2**2, a1*a3**2],\n",
       "[a1**2*a2,    a2**3, a2*a3**2],\n",
       "[a1**2*a3, a2**2*a3,    a3**3]])"
      ]
     },
     "execution_count": 41,
     "metadata": {},
     "output_type": "execute_result"
    }
   ],
   "source": [
    "A1.T * A2"
   ]
  },
  {
   "cell_type": "code",
   "execution_count": 42,
   "id": "e757a196",
   "metadata": {
    "scrolled": true
   },
   "outputs": [
    {
     "data": {
      "text/latex": [
       "$\\displaystyle \\left[\\begin{matrix}a_{1}^{4} & a_{1} a_{2}^{3} & a_{1} a_{3}^{3}\\\\a_{1}^{3} a_{2} & a_{2}^{4} & a_{2} a_{3}^{3}\\\\a_{1}^{3} a_{3} & a_{2}^{3} a_{3} & a_{3}^{4}\\end{matrix}\\right]$"
      ],
      "text/plain": [
       "Matrix([\n",
       "[   a1**4, a1*a2**3, a1*a3**3],\n",
       "[a1**3*a2,    a2**4, a2*a3**3],\n",
       "[a1**3*a3, a2**3*a3,    a3**4]])"
      ]
     },
     "execution_count": 42,
     "metadata": {},
     "output_type": "execute_result"
    }
   ],
   "source": [
    "A1.T * A3"
   ]
  },
  {
   "cell_type": "code",
   "execution_count": 43,
   "id": "3de03f15",
   "metadata": {},
   "outputs": [
    {
     "data": {
      "text/latex": [
       "$\\displaystyle \\left[\\begin{matrix}a_{1}^{5} & a_{1} a_{2}^{4} & a_{1} a_{3}^{4}\\\\a_{1}^{4} a_{2} & a_{2}^{5} & a_{2} a_{3}^{4}\\\\a_{1}^{4} a_{3} & a_{2}^{4} a_{3} & a_{3}^{5}\\end{matrix}\\right]$"
      ],
      "text/plain": [
       "Matrix([\n",
       "[   a1**5, a1*a2**4, a1*a3**4],\n",
       "[a1**4*a2,    a2**5, a2*a3**4],\n",
       "[a1**4*a3, a2**4*a3,    a3**5]])"
      ]
     },
     "execution_count": 43,
     "metadata": {},
     "output_type": "execute_result"
    }
   ],
   "source": [
    "A1.T * A4"
   ]
  },
  {
   "cell_type": "code",
   "execution_count": 44,
   "id": "dbf91e01",
   "metadata": {},
   "outputs": [
    {
     "data": {
      "text/latex": [
       "$\\displaystyle a_{1} a_{2}^{2} - 2 a_{1} a_{2} \\mu_{2} + a_{1} \\mu_{2}^{2} - a_{2}^{2} \\mu_{1} + 2 a_{2} \\mu_{1} \\mu_{2} - \\mu_{1} \\mu_{2}^{2}$"
      ],
      "text/plain": [
       "a1*a2**2 - 2*a1*a2*mu_2 + a1*mu_2**2 - a2**2*mu_1 + 2*a2*mu_1*mu_2 - mu_1*mu_2**2"
      ]
     },
     "execution_count": 44,
     "metadata": {},
     "output_type": "execute_result"
    }
   ],
   "source": [
    "mo12 = m_ab(a1, 1, a2, 2)\n",
    "mo12"
   ]
  },
  {
   "cell_type": "code",
   "execution_count": 31,
   "id": "ad87dc5c",
   "metadata": {},
   "outputs": [],
   "source": [
    "N = sy.ones(cols=2, rows=1)"
   ]
  },
  {
   "cell_type": "code",
   "execution_count": 32,
   "id": "7e64e862",
   "metadata": {},
   "outputs": [
    {
     "data": {
      "text/latex": [
       "$\\displaystyle \\left[\\begin{matrix}1 & a_{1} & a_{1}^{2} & a_{2} & a_{2}^{2}\\\\a_{1} & a_{1}^{2} & a_{1}^{3} & a_{1} a_{2} & a_{1} a_{2}^{2}\\\\a_{1}^{2} & a_{1}^{3} & a_{1}^{4} & a_{1}^{2} a_{2} & a_{1}^{2} a_{2}^{2}\\\\a_{2} & a_{1} a_{2} & a_{1}^{2} a_{2} & a_{2}^{2} & a_{2}^{3}\\\\a_{2}^{2} & a_{1} a_{2}^{2} & a_{1}^{2} a_{2}^{2} & a_{2}^{3} & a_{2}^{4}\\end{matrix}\\right]$"
      ],
      "text/plain": [
       "Matrix([\n",
       "[    1,       a1,       a1**2,       a2,       a2**2],\n",
       "[   a1,    a1**2,       a1**3,    a1*a2,    a1*a2**2],\n",
       "[a1**2,    a1**3,       a1**4, a1**2*a2, a1**2*a2**2],\n",
       "[   a2,    a1*a2,    a1**2*a2,    a2**2,       a2**3],\n",
       "[a2**2, a1*a2**2, a1**2*a2**2,    a2**3,       a2**4]])"
      ]
     },
     "execution_count": 32,
     "metadata": {},
     "output_type": "execute_result"
    }
   ],
   "source": [
    "K = sy.Matrix([1, a1, a1 ** 2, a2, a2 ** 2])\n",
    "K * K.T"
   ]
  },
  {
   "cell_type": "code",
   "execution_count": 33,
   "id": "398a9729",
   "metadata": {},
   "outputs": [
    {
     "data": {
      "text/latex": [
       "$\\displaystyle \\left[\\begin{matrix}1 & a_{1} & a_{2} & a_{1}^{2} & a_{2}^{2}\\\\a_{1} & a_{1}^{2} & a_{1} a_{2} & a_{1}^{3} & a_{1} a_{2}^{2}\\\\a_{2} & a_{1} a_{2} & a_{2}^{2} & a_{1}^{2} a_{2} & a_{2}^{3}\\\\a_{1}^{2} & a_{1}^{3} & a_{1}^{2} a_{2} & a_{1}^{4} & a_{1}^{2} a_{2}^{2}\\\\a_{2}^{2} & a_{1} a_{2}^{2} & a_{2}^{3} & a_{1}^{2} a_{2}^{2} & a_{2}^{4}\\end{matrix}\\right]$"
      ],
      "text/plain": [
       "Matrix([\n",
       "[    1,       a1,       a2,       a1**2,       a2**2],\n",
       "[   a1,    a1**2,    a1*a2,       a1**3,    a1*a2**2],\n",
       "[   a2,    a1*a2,    a2**2,    a1**2*a2,       a2**3],\n",
       "[a1**2,    a1**3, a1**2*a2,       a1**4, a1**2*a2**2],\n",
       "[a2**2, a1*a2**2,    a2**3, a1**2*a2**2,       a2**4]])"
      ]
     },
     "execution_count": 33,
     "metadata": {},
     "output_type": "execute_result"
    }
   ],
   "source": [
    "B = sy.Matrix([1, a1, a2, a1 ** 2, a2 ** 2])\n",
    "ZZ = B * B.T\n",
    "ZZ"
   ]
  },
  {
   "cell_type": "code",
   "execution_count": 34,
   "id": "e6dd130b",
   "metadata": {},
   "outputs": [
    {
     "data": {
      "text/latex": [
       "$\\displaystyle \\left[\\begin{matrix}0 & a_{1} \\mu_{2}^{2} & 2 a_{2} \\mu_{1} \\mu_{2} & 0 & - a_{2}^{2} \\mu_{1}\\\\0 & 0 & - 2 a_{1} a_{2} \\mu_{2} & 0 & a_{1} a_{2}^{2}\\\\0 & 0 & 0 & 0 & 0\\\\0 & 0 & 0 & 0 & 0\\\\0 & 0 & 0 & 0 & 0\\end{matrix}\\right]$"
      ],
      "text/plain": [
       "Matrix([\n",
       "[0, a1*mu_2**2, 2*a2*mu_1*mu_2, 0, -a2**2*mu_1],\n",
       "[0,          0,  -2*a1*a2*mu_2, 0,    a1*a2**2],\n",
       "[0,          0,              0, 0,           0],\n",
       "[0,          0,              0, 0,           0],\n",
       "[0,          0,              0, 0,           0]])"
      ]
     },
     "execution_count": 34,
     "metadata": {},
     "output_type": "execute_result"
    }
   ],
   "source": [
    "ZZ.multiply_elementwise(sy.Matrix([\n",
    "    [0, mx2**2, 2 * mx1 * mx2, 0, -mx1],\n",
    "    [0,      0,      -2 * mx2, 0,    1],\n",
    "    [0,      0,             0, 0,    0],\n",
    "    [0,      0,             0, 0,    0],\n",
    "    [0,      0,             0, 0,    0],\n",
    "]))"
   ]
  },
  {
   "cell_type": "code",
   "execution_count": 35,
   "id": "a2b3d76a",
   "metadata": {},
   "outputs": [
    {
     "name": "stdout",
     "output_type": "stream",
     "text": [
      "mu_2**4 - 4*mu_2**3*x2 + 6*mu_2**2*x2**2 - 4*mu_2*x2**3 + x2**4\n"
     ]
    }
   ],
   "source": [
    "print(sy.expand((x2 - mx2)**4))"
   ]
  },
  {
   "cell_type": "code",
   "execution_count": 36,
   "id": "863a5904",
   "metadata": {},
   "outputs": [
    {
     "data": {
      "text/latex": [
       "$\\displaystyle \\mu_{2}^{4} - 4 \\mu_{2}^{3} x_{2} + 6 \\mu_{2}^{2} x_{2}^{2} - 4 \\mu_{2} x_{2}^{3} + x_{2}^{4}$"
      ],
      "text/plain": [
       "mu_2**4 - 4*mu_2**3*x2 + 6*mu_2**2*x2**2 - 4*mu_2*x2**3 + x2**4"
      ]
     },
     "execution_count": 36,
     "metadata": {},
     "output_type": "execute_result"
    }
   ],
   "source": [
    "mu_2**4 - 4*mu_2**3*x2 + 6*mu_2**2*x2**2 - 4*mu_2*x2**3 + x2**4"
   ]
  },
  {
   "cell_type": "code",
   "execution_count": null,
   "id": "b070af61",
   "metadata": {},
   "outputs": [],
   "source": []
  },
  {
   "cell_type": "code",
   "execution_count": null,
   "id": "fdb9c16b",
   "metadata": {},
   "outputs": [],
   "source": []
  },
  {
   "cell_type": "code",
   "execution_count": null,
   "id": "e86ed276",
   "metadata": {},
   "outputs": [],
   "source": []
  },
  {
   "cell_type": "code",
   "execution_count": null,
   "id": "0ed5b975",
   "metadata": {},
   "outputs": [],
   "source": []
  },
  {
   "cell_type": "code",
   "execution_count": null,
   "id": "b4b1b2ff",
   "metadata": {},
   "outputs": [],
   "source": []
  },
  {
   "cell_type": "code",
   "execution_count": null,
   "id": "5493533e",
   "metadata": {},
   "outputs": [],
   "source": []
  },
  {
   "cell_type": "code",
   "execution_count": null,
   "id": "46bcfbe7",
   "metadata": {},
   "outputs": [],
   "source": []
  },
  {
   "cell_type": "code",
   "execution_count": null,
   "id": "f7d8fff2",
   "metadata": {},
   "outputs": [],
   "source": []
  },
  {
   "cell_type": "code",
   "execution_count": null,
   "id": "0394b981",
   "metadata": {},
   "outputs": [],
   "source": []
  },
  {
   "cell_type": "code",
   "execution_count": null,
   "id": "ce6e537f",
   "metadata": {},
   "outputs": [],
   "source": []
  },
  {
   "cell_type": "code",
   "execution_count": null,
   "id": "b4350b4a",
   "metadata": {},
   "outputs": [],
   "source": []
  },
  {
   "cell_type": "code",
   "execution_count": null,
   "id": "5af38e66",
   "metadata": {},
   "outputs": [],
   "source": []
  },
  {
   "cell_type": "code",
   "execution_count": null,
   "id": "73b4456b",
   "metadata": {},
   "outputs": [],
   "source": []
  },
  {
   "cell_type": "code",
   "execution_count": null,
   "id": "eca3de55",
   "metadata": {},
   "outputs": [],
   "source": []
  },
  {
   "cell_type": "code",
   "execution_count": null,
   "id": "cad047dd",
   "metadata": {},
   "outputs": [],
   "source": []
  },
  {
   "cell_type": "code",
   "execution_count": null,
   "id": "4a60538a",
   "metadata": {},
   "outputs": [],
   "source": []
  }
 ],
 "metadata": {
  "kernelspec": {
   "display_name": "Python 3 (ipykernel)",
   "language": "python",
   "name": "python3"
  },
  "language_info": {
   "codemirror_mode": {
    "name": "ipython",
    "version": 3
   },
   "file_extension": ".py",
   "mimetype": "text/x-python",
   "name": "python",
   "nbconvert_exporter": "python",
   "pygments_lexer": "ipython3",
   "version": "3.10.12"
  }
 },
 "nbformat": 4,
 "nbformat_minor": 5
}
