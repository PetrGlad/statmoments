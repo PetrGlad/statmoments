{
 "cells": [
  {
   "cell_type": "code",
   "execution_count": 1,
   "id": "86da56ff-d661-4ac7-b191-86f228228042",
   "metadata": {},
   "outputs": [],
   "source": [
    "# !pip install ipympl\n",
    "# pip install black isort jupyterlab-code-formatter"
   ]
  },
  {
   "cell_type": "code",
   "execution_count": 2,
   "id": "04586951",
   "metadata": {},
   "outputs": [
    {
     "data": {
      "text/plain": [
       "(<CUDA Device 0>, '86', <Stream 0 (device -1)>)"
      ]
     },
     "execution_count": 2,
     "metadata": {},
     "output_type": "execute_result"
    }
   ],
   "source": [
    "%matplotlib widget\n",
    "import itertools as iter\n",
    "import math\n",
    "\n",
    "import cupy as cp\n",
    "import matplotlib.pyplot as plt\n",
    "import numpy as np\n",
    "import scipy as sp\n",
    "import scipy.linalg.blas as sblas\n",
    "import sympy as sy\n",
    "from sympy.plotting import plot\n",
    "\n",
    "cp.cuda.Device(), cp.cuda.device.get_compute_capability(), cp.cuda.get_current_stream()"
   ]
  },
  {
   "cell_type": "code",
   "execution_count": 3,
   "id": "9a5e4431",
   "metadata": {},
   "outputs": [],
   "source": [
    "x_cpu = np.array([1, 2, 3])\n",
    "y_cpu = np.array([4, 5, 6])\n",
    "x_gpu = cp.asarray(x_cpu)"
   ]
  },
  {
   "cell_type": "code",
   "execution_count": 4,
   "id": "1bc4076f",
   "metadata": {},
   "outputs": [
    {
     "data": {
      "text/plain": [
       "array([5, 7, 9])"
      ]
     },
     "execution_count": 4,
     "metadata": {},
     "output_type": "execute_result"
    }
   ],
   "source": [
    "cp.asnumpy(x_gpu) + y_cpu"
   ]
  },
  {
   "cell_type": "code",
   "execution_count": 5,
   "id": "478f6cdf",
   "metadata": {},
   "outputs": [
    {
     "data": {
      "text/plain": [
       "array([5, 7, 9])"
      ]
     },
     "execution_count": 5,
     "metadata": {},
     "output_type": "execute_result"
    }
   ],
   "source": [
    "x_gpu + cp.asarray(y_cpu)"
   ]
  },
  {
   "cell_type": "code",
   "execution_count": 6,
   "id": "86b4597c",
   "metadata": {},
   "outputs": [],
   "source": [
    "sg_all = cp.asarray([])\n",
    "s_cpall = cp.asnumpy(sg_all)"
   ]
  },
  {
   "cell_type": "code",
   "execution_count": 7,
   "id": "bd2d68f4",
   "metadata": {},
   "outputs": [],
   "source": [
    "# plt.plot([1, 34, 23, 55, 8])\n",
    "# plt.show()"
   ]
  },
  {
   "cell_type": "code",
   "execution_count": 8,
   "id": "44c75804",
   "metadata": {},
   "outputs": [
    {
     "data": {
      "text/plain": [
       "array([[ 42,  45,  48],\n",
       "       [150, 162, 174],\n",
       "       [258, 279, 300]])"
      ]
     },
     "execution_count": 8,
     "metadata": {},
     "output_type": "execute_result"
    }
   ],
   "source": [
    "import cupy\n",
    "\n",
    "x = cupy.array(range(9)).reshape((3, 3))\n",
    "y = cupy.array(range(9, 18)).reshape((3, 3))\n",
    "expected = cupy.matmul(x, y)\n",
    "cupy.cuda.Device().synchronize()\n",
    "\n",
    "stream = cupy.cuda.stream.Stream()\n",
    "with stream:\n",
    "    for k in range(10000):\n",
    "        z = cupy.matmul(x, y)\n",
    "stream.synchronize()\n",
    "cupy.testing.assert_array_equal(z, expected)\n",
    "\n",
    "stream = cupy.cuda.stream.Stream()\n",
    "stream.use()\n",
    "z = cupy.matmul(x, y)\n",
    "stream.synchronize()\n",
    "cupy.testing.assert_array_equal(z, expected)\n",
    "z"
   ]
  },
  {
   "cell_type": "code",
   "execution_count": 9,
   "id": "3ae00940-810a-490f-a395-953ce9ed3108",
   "metadata": {},
   "outputs": [
    {
     "data": {
      "text/plain": [
       "array([[ 0.,  2.,  4.],\n",
       "       [ 0.,  4., 10.]])"
      ]
     },
     "execution_count": 9,
     "metadata": {},
     "output_type": "execute_result"
    }
   ],
   "source": [
    "# https://docs.cupy.dev/en/stable/user_guide/kernel.html\n",
    "# EXAMPLE\n",
    "kernel = cp.ElementwiseKernel(\n",
    "    \"T x, T y\",\n",
    "    \"T z\",\n",
    "    \"\"\"\n",
    "     if (x - 2 > y) {\n",
    "       z = x * y;\n",
    "     } else {\n",
    "       z = x + y;\n",
    "     }\n",
    "     \"\"\",\n",
    "    \"my_kernel\",\n",
    ")\n",
    "\n",
    "x = cp.arange(6, dtype=\"d\").reshape(2, 3)\n",
    "y = cp.arange(3, dtype=\"d\")\n",
    "kernel(x, y)"
   ]
  },
  {
   "cell_type": "code",
   "execution_count": 10,
   "id": "58cb8360-877b-4da6-81ed-1ac94003d845",
   "metadata": {},
   "outputs": [
    {
     "data": {
      "text/plain": [
       "array([[ 0.,  2.,  4.,  6.,  8.],\n",
       "       [10., 12., 14., 16., 18.],\n",
       "       [20., 22., 24., 26., 28.],\n",
       "       [30., 32., 34., 36., 38.],\n",
       "       [40., 42., 44., 46., 48.]], dtype=float32)"
      ]
     },
     "execution_count": 10,
     "metadata": {},
     "output_type": "execute_result"
    }
   ],
   "source": [
    "# EXAMPLE\n",
    "add_kernel = cp.RawKernel(\n",
    "    r\"\"\"\n",
    "typedef float T;\n",
    "\n",
    "extern \"C\" __global__\n",
    "void my_add(const T* x1, const T* x2, T* y) {\n",
    "    int tid = blockDim.x * blockIdx.x + threadIdx.x;\n",
    "    y[tid] = x1[tid] + x2[tid];\n",
    "}\n",
    "\"\"\",\n",
    "    \"my_add\",\n",
    ")\n",
    "x1 = cp.arange(25, dtype=cp.float32).reshape(5, 5)\n",
    "x2 = cp.arange(25, dtype=cp.float32).reshape(5, 5)\n",
    "y = cp.zeros((5, 5), dtype=cp.float32)\n",
    "add_kernel((5,), (5,), (x1, x2, y))  # grid, block and arguments\n",
    "\n",
    "y"
   ]
  },
  {
   "cell_type": "code",
   "execution_count": 11,
   "id": "fff2c6ca-bb52-4a17-9cbc-5bc6cd2477ec",
   "metadata": {},
   "outputs": [],
   "source": [
    "# cp.cuda.Device().attributes"
   ]
  },
  {
   "cell_type": "code",
   "execution_count": 12,
   "id": "46bbed5c-9c57-4753-94c7-f9e9489d67c5",
   "metadata": {},
   "outputs": [],
   "source": [
    "# Float type to use. Update CUDA kernels when changing this.\n",
    "dtype = cp.float64\n",
    "n = 5  # Number of scalar values in a measurement\n",
    "p = 4  # Max moment degree to calc"
   ]
  },
  {
   "cell_type": "code",
   "execution_count": 13,
   "id": "d44463b5-04e6-4099-9e52-842dde4ff706",
   "metadata": {},
   "outputs": [
    {
     "data": {
      "text/plain": [
       "{'max_threads_per_block': 1024,\n",
       " 'shared_size_bytes': 0,\n",
       " 'const_size_bytes': 0,\n",
       " 'local_size_bytes': 0,\n",
       " 'num_regs': 38,\n",
       " 'ptx_version': 86,\n",
       " 'binary_version': 86,\n",
       " 'cache_mode_ca': 0,\n",
       " 'max_dynamic_shared_size_bytes': 49152,\n",
       " 'preferred_shared_memory_carveout': -1}"
      ]
     },
     "execution_count": 13,
     "metadata": {},
     "output_type": "execute_result"
    }
   ],
   "source": [
    "ck_powers = cp.RawKernel(\n",
    "    r\"\"\"\n",
    "typedef double T;\n",
    "\n",
    "extern \"C\" __global__\n",
    "void powers(const int p, const T* x, T* y) {\n",
    "    const int tid = blockDim.x * blockIdx.x + threadIdx.x;\n",
    "    const T z = x[tid];\n",
    "    T c = z;\n",
    "    int n = p;\n",
    "    int i = tid * p;\n",
    "    while (true) {\n",
    "        // printf(\"<%d (b=%d, t=%d)> [%d] at %d = %f # %d\\n\", tid, blockIdx.x, threadIdx.x, i, n, c, p);\n",
    "        y[i++] = c;\n",
    "        if (n <= 1) break;\n",
    "        n--;\n",
    "        c *= z;\n",
    "    }\n",
    "}\n",
    "\"\"\",\n",
    "    \"powers\",\n",
    ")\n",
    "ck_powers.attributes"
   ]
  },
  {
   "cell_type": "code",
   "execution_count": 14,
   "id": "7bda4c9c-eb21-4e19-a1e2-1351d3080ff9",
   "metadata": {},
   "outputs": [
    {
     "name": "stdout",
     "output_type": "stream",
     "text": [
      "[1. 2. 3. 4. 5.]\n",
      "1 5\n",
      "[[  1.   1.   1.   1.]\n",
      " [  2.   4.   8.  16.]\n",
      " [  3.   9.  27.  81.]\n",
      " [  4.  16.  64. 256.]\n",
      " [  5.  25. 125. 625.]]\n"
     ]
    }
   ],
   "source": [
    "try:\n",
    "    x = cp.arange(n, dtype=dtype) + 1\n",
    "    print(x)\n",
    "    x_powers = cp.zeros((n, p), dtype=dtype)\n",
    "\n",
    "    bs = min(ck_powers.max_threads_per_block, n)\n",
    "    b = n // bs\n",
    "    if n % bs != 0:\n",
    "        b += 1\n",
    "    print(b, bs)\n",
    "\n",
    "    ck_powers(\n",
    "        (b,), (bs,), (p, x, x_powers)\n",
    "    )  # grid (number of blocks), block and arguments\n",
    "    print(x_powers)\n",
    "finally:\n",
    "    pass\n",
    "    # del x\n",
    "    # del x_powers"
   ]
  },
  {
   "cell_type": "code",
   "execution_count": 15,
   "id": "ba01754b-fbfa-451e-947d-53c33b33f5d2",
   "metadata": {},
   "outputs": [],
   "source": [
    "# We could use compact representation of a triangle matrix that allows scheduling even-sized tasks (one per row).\n",
    "# Example\n",
    "# For matrix\n",
    "# 1\n",
    "# 2 3\n",
    "# 4 5 6\n",
    "# 7 8 9 10\n",
    "# The representation would be\n",
    "# 1 7 8 9 10\n",
    "# 2 3 4 5 6\n",
    "# Rows are combined to have equal row lengths, number of rows in this representation is ceil(half the size) of the original matrix.\n",
    "# Note that width of the matrix in this case is rounded up to multiply of 2.\n",
    "# For example extending the example matrix above to range 1..15 will be laid out as\n",
    "# 11 12 13 14 15\n",
    "# 1  7  8  9  10\n",
    "# 2  3  4  5  6\n",
    "# In this case the kernel will have to have 2 loops (or a condition in a loop) to distinguish between left and right rows in the array.\n",
    "# A down side might be in exporting the data to the host: it will have to know how to handle this format.\n",
    "\n",
    "# Settling on the straightforward format for now, just row-major with variable row lenghts. For example for the matrix above, the layout would be\n",
    "# 1 2 3 4 5 6 7 8 ..."
   ]
  },
  {
   "cell_type": "code",
   "execution_count": 25,
   "id": "fa0ec111-1848-47fc-96bb-1c4d7e25ba44",
   "metadata": {},
   "outputs": [
    {
     "data": {
      "text/latex": [
       "$\\displaystyle \\frac{\\sqrt{8 p + 1}}{2} + \\frac{1}{2}$"
      ],
      "text/plain": [
       "sqrt(8*p + 1)/2 + 1/2"
      ]
     },
     "execution_count": 25,
     "metadata": {},
     "output_type": "execute_result"
    }
   ],
   "source": [
    "# Looking an element at specific offset in memory, we can calculate it's row and column in the (lower) triangle matrix.\n",
    "from sympy import Symbol\n",
    "from sympy.solvers import solve\n",
    "\n",
    "_p = Symbol(\"p\", positive=True, real=True)\n",
    "_n = Symbol(\"n\", positive=True, real=True)\n",
    "# Mapping index in triangle into row number\n",
    "index_to_row = solve(_n * (_n - 1) / 2 - _p, _n)[1]\n",
    "index_to_row"
   ]
  },
  {
   "cell_type": "code",
   "execution_count": 26,
   "id": "5247a9b5-3a11-43e8-aeb6-0e36eb15dd95",
   "metadata": {},
   "outputs": [
    {
     "data": {
      "application/vnd.jupyter.widget-view+json": {
       "model_id": "1023c85e69db40bbaad5255631a7bd05",
       "version_major": 2,
       "version_minor": 0
      },
      "image/png": "[encoded data removed]",
      "text/html": [
       "\n",
       "            <div style=\"display: inline-block;\">\n",
       "                <div class=\"jupyter-widgets widget-label\" style=\"text-align: center;\">\n",
       "                    Figure\n",
       "                </div>\n",
       "                <img src='data:image/png;base64,iVBORw0KGgoAAAANSUhEUgAAAoAAAAHgCAYAAAA10dzkAAAAOXRFWHRTb2Z0d2FyZQBNYXRwbG90bGliIHZlcnNpb24zLjguMywgaHR0cHM6Ly9tYXRwbG90bGliLm9yZy/H5lhTAAAACXBIWXMAAA9hAAAPYQGoP6dpAAAln0lEQVR4nO3de3RW9Zno8eeVS0AlKHfQcPFSQDBYFdKM9Y4CtR5vq8da5oiXw9gxWpVp69I11jJV49A1XbRrPGjbKZx1LGpti7Y9Sx21BbRCC7ZRtA4Fage1INUjCSBGSvb5ozWdKJjkzWVnv/vzWYsl75vX5OnuK+vLb+/ffgtJkiQBAEBuHJD2AAAAdC8BCACQMwIQACBnBCAAQM4IQACAnBGAAAA5IwABAHJGAAIA5IwABADIGQEIAJAzAhAAIGcEIABAzghAAICcyV0AJkkSDQ0NkSRJ2qMAAKQidwG4Y8eOGDhwYOzYsSPtUQAAUpG7AAQAyDsBCACQMwIQACBnBCAAQM4IQACAnBGAAAA5IwABAHJGAAIA5IwABADIGQEIAJAzAhAAIGcEIABAzghAAICcEYAAADmTuQAcO3ZsFAqFD/yqqalJezQAgEzonfYA7bVmzZrYu3dv8+MXXnghzjrrrPjUpz6V4lQAANmRuQAcOnRoi8d33nlnHHnkkXHqqaemNBEAQLZkLgD/q3fffTfuvffemDdvXhQKhX2+prGxMRobG5sfNzQ0dNd4AEAXembTG3H7/30pGv/UlPYoLfzrZz4aE0aUpz3Gh8p0AD700EOxffv2uOyyy/b7mtra2pg/f373DQUAdIsfPPtavPiHnrew07inZwXpvhSSJEnSHqJYM2bMiL59+8aPf/zj/b5mXyuAFRUVUV9fH+XlPbvOAYD9m/dAXfzw16/F9InD4n+efETa4zSbNKo8BvTrk/YYHyqzK4D/+Z//GU888UT88Ic//NDXlZWVRVlZWTdNBQB0t6pxg+NjRwxOe4xMydxtYN6zePHiGDZsWJxzzjlpjwIAkCmZDMCmpqZYvHhxzJkzJ3r3zuwiJgDQAZm9hq0HyGQAPvHEE7F58+a44oor0h4FAEjZfm4EwofI5PLZ2WefHRneuwIAkKpMrgACAFA8AQgAZJKzgcUTgAAAOSMAAQByRgACAOSMAAQAMskVgMUTgABAphXcCLDdBCAAQM4IQACAnBGAAAA5IwABgExyH+jiCUAAINNsAWk/AQgAkDMCEAAgZwQgAJBJLgEsngAEADLNfaDbTwACAOSMAAQAyBkBCABkUuJGgEUTgABAprkEsP0EIABAzghAAICcEYAAQCa5ArB4AhAAyLSCGwG2mwAEAMgZAQgAkDMCEADIJhcBFk0AAgCZ5hLA9hOAAAA5IwABAHJGAAIA5IwABAAyKbELpGgCEADINHtA2k8AAgDkjAAEAMgZAQgAZFLiEsCiCUAAINvcCbrdBCAAQM4IQACAnBGAAEAmuQaweAIQAMg0VwC2nwAEAMgZAQgAkDMCEADIJJ8FXLxMBuBrr70Wf/u3fxuDBw+O/v37x7HHHhtr165NeywAIAVuA9h+vdMeoL3eeuutOOmkk+L000+PRx55JIYOHRobNmyIQw89NO3RAAAyIXMB+M///M9RUVERixcvbn5u3LhxKU4EAJAtmQvAH/3oRzFjxoz41Kc+FStWrIjDDjssrr766pg7d+4+X9/Y2BiNjY3NjxsaGrprVAC60cInfhv3rPhdNLk5XG40/qkp7REyK3MB+Lvf/S4WLVoU8+bNi5tvvjnWrFkTn/vc56Jv374xZ86cD7y+trY25s+fn8KkAHSnnzy/JXbv2Zv2GHSzPr0KMXFkedpjZE4hSbL1V6W+ffvGiSeeGM8880zzc5/73OdizZo1sWrVqg+8fl8rgBUVFVFfXx/l5d4wAKVi+tdWxMZtO+NfPjUlqo4YlPY4dJMB/frEwP590h4jczK3Ajhy5Mg45phjWjw3ceLE+MEPfrDP15eVlUVZWVl3jAZAD3DYof3j8EMPTHsM6NEydxuYk046KdavX9/iud/+9rcxZsyYlCYCoCfI2AktSFXmAvCGG26I1atXxx133BEbN26MpUuXxje/+c2oqalJezQAegC3hIPWZS4Ap06dGsuWLYv77rsvJk+eHF/5yldi4cKFMXv27LRHAwDIhMxdAxgR8clPfjI++clPpj0GAD2IE8DQdplbAQSAD1PwuWDQKgEIAJAzAhCA0uAcMLSZAAQAyBkBCEBJcQkgtE4AAlASnAGGthOAAAA5IwABKCnOAEPrBCAAQM4IQABKQpK4ChDaSgACAOSMAASgpLgNDLROAAJQEpwAhrYTgAAAOSMAASgxzgFDawQgACXBJmBoOwEIAJAzAhAAIGcEIAAlIfnLPmC3gYHWCUAAgJwRgAAAOSMAASgpzgBD6wQgACXBbWCg7QQgAEDOCEAASkrBNmBolQAEoCQ4BQxtJwABAHJGAAIA5IwABKCkuAIQWicAAQByRgACAOSMAASgJCR/2QbsLjDQOgEIAJAzAhAAIGcEIABAzghAAErCex8EUnAjGGiVAAQAyBkBCACQMwIQgJLwl7vAuA0MtIEABADIGQEIAJAzAhCAkpA07wMGWiMAAQByJnMB+OUvfzkKhUKLXxMmTEh7LACAzOid9gDFmDRpUjzxxBPNj3v3zuT/DAA6UeIMMLRZJsupd+/eMWLEiLTHAKAHchsYaF0mA3DDhg0xatSo6NevX1RXV0dtbW2MHj067bGAEtT4p73RsPtPaY9BG7yxszHtESAzMheAVVVVsWTJkhg/fnxs2bIl5s+fHyeffHK88MILMWDAgA+8vrGxMRob//qHQkNDQ3eOC2TYW7vejTP+ZXm89faetEcB6FSZC8BZs2Y1/76ysjKqqqpizJgx8b3vfS+uvPLKD7y+trY25s+f350jAiXid2/sbI4/pxWz4ehhB8eRQw9Oewzo8TIXgO93yCGHxEc+8pHYuHHjPr9+0003xbx585ofNzQ0REVFRXeNB5SAsYMPjOVfOD3tMQA6TeZuA/N+O3fujE2bNsXIkSP3+fWysrIoLy9v8QsAIM8yF4Cf//znY8WKFfH73/8+nnnmmbjggguiV69ecckll6Q9GlBi3FYEKFWZOwX86quvxiWXXBJvvvlmDB06ND7+8Y/H6tWrY+jQoWmPBpSoggsAgRKTuQC8//770x4BACDTMncKGACAjhGAAPvhEkCgVAlAgFa4AhAoNQIQACBnBCDAfrgNDFCqBCBAa5wDBkqMAAQAyBkBCACQMwIQYD8SFwECJUoAArTCJYBAqRGAAAA5IwABAHJGAALshysAgVIlAAFaUSi4ChAoLQIQACBnBCDAfrgLDFCqBCBAK5wABkqNAAQAyBkBCACQMwIQYD8SN4IBSpQABGiFu8AApUYAAgDkjAAEAMgZAQiwPy4BBEqUAARoRcGdAIESIwABAHJGAALshzPAQKkSgACtcBsYoNQIQACAnBGAAAA5IwAB9iNxESBQogQgAEDOCEAAgJwRgAAAOSMAAfYjcSdAoEQJQIBWFNwIECgxAhAAIGcEIMB+uA0MUKoEIEArnAAGSo0ABADIGQEIAJAzAhBgP1wCCJQqAQjQCneBAUqNAAQAyJnMB+Cdd94ZhUIhrr/++rRHAQDIhEwH4Jo1a+Kee+6JysrKtEcBSlDiRoBAicpsAO7cuTNmz54d3/rWt+LQQw9NexyghLkGECg1vdMeoFg1NTVxzjnnxPTp0+O2225Lexzodk1NSfxmS0O8u7cp7VFK1q83b097BIAukckAvP/+++NXv/pVrFmzptXXNjY2RmNjY/PjhoaGrhwNus2Cx9bH3Ss2pT1GLhR8FghQYjIXgK+88kpcd9118fjjj0e/fv1afX1tbW3Mnz+/GyaD7vXyGzubf18xqH+Kk5S2XoVCfKZqdNpjAHSqQpKxq5wfeuihuOCCC6JXr17Nz+3duzcKhUIccMAB0djY2OJr+1oBrKioiPr6+igvL+/W2aEzXfV/1sZjL74et18wOWZXjUl7HAAyJHMrgGeeeWasW7euxXOXX355TJgwIW688cYW8RcRUVZWFmVlZd05InSLbP3VDYCeJHMBOGDAgJg8eXKL5w466KAYPHjwB56HPHB9GgDtldnbwAAAUJzMrQDuy/Lly9MeAbqdM8AAFMsKIGScmxQD0F4CEDLKJhAAiiUAIeMsAALQXgIQACBnBCBklnPAABRHAELG2QQCQHsJQMgom0AAKJYAhIzzSSAAtJcABADIGQEIGeUMMADF6vKPgtuzZ09s3bo13n777Rg6dGgMGjSoq38k5IszwAC0U5esAO7YsSMWLVoUp556apSXl8fYsWNj4sSJMXTo0BgzZkzMnTs31qxZ0xU/GgCAVnR6AH7ta1+LsWPHxuLFi2P69Onx0EMPRV1dXfz2t7+NVatWxa233hp/+tOf4uyzz46ZM2fGhg0bOnsEyIXENmAAitTpp4DXrFkTK1eujEmTJu3z69OmTYsrrrgi7r777li8eHE89dRTcfTRR3f2GJAbzgAD0F6dHoD33Xdfm15XVlYWn/3sZzv7x0NuWP8DoFjdsgv4tddei9dee607fhTkTsFHgQDQTl0agD//+c9j3LhxMXr06Bg9enQMHz48brzxxmhoaOjKHwsAwIfo0gC86qqrYuLEibFmzZpYv359fPWrX40nnngijj/+eCuC0EH2gABQrC4NwE2bNsXChQvj+OOPj6OOOiouvfTSWLt2bXz0ox+N66+/vit/NOSGE8AAtFeXBuDEiRNj27ZtLZ4rFArxT//0T/Hoo4925Y+GkmcBEIBidWkAXnbZZXHttdfGK6+80uL5+vr6KC8v78ofDblhDwgA7dWlHwX33mneo48+Oi688MI47rjjYu/evXHvvffGggULuvJHAwCwH10agFu2bIm6urp47rnnoq6uLpYsWRIbNmyIQqEQCxYsiEceeSQqKyujsrIyZs6c2ZWjQMnxSSAAFKtLA3D48OExY8aMmDFjRvNz77zzTqxbt645DH/0ox/FHXfcEdu3b+/KUaBkOQUMQHt1aQDuS79+/WLq1KkxderU7v7RAABEF2wC2bx5c7te736AAADdq9MDcOrUqXHVVVfFmjVr9vua+vr6+Na3vhWTJ0+OH/zgB509AuRKwZ0AAWinTj8FfM4558TBBx8cZ511VvTr1y9OOOGEGDVqVPTr1y/eeuut+M1vfhMvvvhiHH/88bFgwYL4xCc+0dkjQC7YAwJAsTo9AO+999545ZVX4itf+UoMHTo0Ro4cGW+88Ubs3r07hgwZErNnz44ZM2bE5MmTO/tHQy7ZBAJAe3V6AI4aNSrq6upixowZsXv37rjjjjti2LBhnf1jAAAoUqdfA/gP//APce6558bJJ58chUIhvvvd78aaNWti9+7dnf2jINcSHwYHQJE6PQCvvfbaWLt2bcycOTOSJIm77rorqquro7y8PCZOnBif/vSn484774xHHnmks380AABt0CX3AXzv0z2WLFkSq1atioMOOiief/75qKuri7q6unj44Yfj9ttvjx07dnTFjwcA4EN06Y2gN2zY0Pz7qqqqqKqqan7sY6ygY/wnBECxOv0UcFsVbF2ETuG/JQDaK7UABDrGCiAAxRKAkHHW/wBoLwEIAJAzAhAyyn0AASiWAISMswcEgPYSgJBRNoEAUCwBCBlXsA0EgHYSgAAAOSMAIaOcAQagWJkLwEWLFkVlZWWUl5dHeXl5VFdXxyOPPJL2WJAam0AAaK/MBeDhhx8ed955Zzz77LOxdu3aOOOMM+K8886LF198Me3RAAAyoXfaA7TXueee2+Lx7bffHosWLYrVq1fHpEmTUpoKUuAcMABFylwA/ld79+6NBx98MHbt2hXV1dVpj0MXeP7V7fH7N99Oe4we6Ze//38R4aPgAGi/TAbgunXrorq6Ot555504+OCDY9myZXHMMcfs87WNjY3R2NjY/LihoaG7xqSDXn3r7fhv//rztMfo8XodIAEBaJ9MBuD48eOjrq4u6uvr4/vf/37MmTMnVqxYsc8IrK2tjfnz56cwJR31xx1/Dfe/OXJwipP0XCPK+8XfHDUk7TEAyJhCkmT/8wSmT58eRx55ZNxzzz0f+Nq+VgArKiqivr4+ysvLu3NM2unXm9+KC/7XM1ExqH889cUz0h4HAEpGJlcA36+pqalF5P1XZWVlUVZW1s0T0Rky/zcTAOihMheAN910U8yaNStGjx4dO3bsiKVLl8by5cvjscceS3s0uoiPOgOAzpW5ANy2bVtceumlsWXLlhg4cGBUVlbGY489FmeddVbao9HJsn9xAgD0TJkLwH/7t39LewS6mU+6AIDOlblPAiFPLAECQFcQgAAAOSMA6fGcAQaAziUA6bFsAgGAriEA6fEKdoEAQKcSgPRYFgABoGsIQACAnBGA9HhOAANA5xKA9Fg2gQBA1xCA9HyWAAGgUwlAeqzEEiAAdAkBCACQMwKQHuu99T9ngAGgcwlAAICcEYD0eD4JBAA6lwCkx7IHBAC6hgAEAMgZAUiPlfxlG4gTwADQuQQgAEDOCEB6rr9cA2gPCAB0LgEIAJAzAhAAIGcEID3WXz8JxDlgAOhMAhAAIGcEID1WYhMIAHQJAQgAkDMCEAAgZwQgPVYSPgwYALqCAAQAyBkBSI/1100gdoEAQGcSgAAAOSMA6bFcAQgAXUMA0uM5AQwAnUsAAgDkjACkx0r+sgvEHhAA6FwCEAAgZwQgPZZNIADQNQQgPZ5TwADQuQQgAEDOCEB6rvc+CcSNYACgUwlAAICcEYD0WIltIADQJQQgPZ5NIADQuQQgPVZiARAAukTmArC2tjamTp0aAwYMiGHDhsX5558f69evT3ssupAFQADoXJkLwBUrVkRNTU2sXr06Hn/88dizZ0+cffbZsWvXrrRHAwDIhN5pD9Bejz76aIvHS5YsiWHDhsWzzz4bp5xySkpT0RWcAgaArpG5AHy/+vr6iIgYNGhQypOka+O2nfH4b16PphKqpidfev3Pv7ELBAA6VaYDsKmpKa6//vo46aSTYvLkyft8TWNjYzQ2NjY/bmho6K7xutUXvv9c/Hrz9rTH6BL9emfuSgUA6NEyHYA1NTXxwgsvxNNPP73f19TW1sb8+fO7cap01O/eExER44YcFFPHHpryNJ2n1wGF+O8nVqQ9BgCUlEKSZPOc4TXXXBMPP/xwrFy5MsaNG7ff1+1rBbCioiLq6+ujvLy8O0btFmf8y/L43R93xfeuqo5p4/J9OhwA+HCZWwFMkiSuvfbaWLZsWSxfvvxD4y8ioqysLMrKyrppuhRlMuMBgDRkLgBrampi6dKl8fDDD8eAAQNi69atERExcODA6N+/f8rTpc9+CQCgNZm7un7RokVRX18fp512WowcObL51wMPPJD2aKmyAAgAtFXmVgAzeslit7EACAC0JnMrgAAAdIwALBFWRgGAthKAJcYmEACgNQKwRFj/AwDaSgCWHEuAAMCHE4AAADkjAEuEPSAAQFsJwBJjEwgA0BoBWCIS20AAgDYSgCXGAiAA0BoBCACQMwKwRNgEAgC0lQAsMQW7QACAVgjAEmEFEABoKwFYYqz/AQCtEYAAADkjAAEAckYAlhh7QACA1gjAEpHYBQIAtJEALDEF20AAgFYIQACAnBGAJcIJYACgrQRgibEJBABojQAsEfaAAABtJQABAHJGAJaIxFWAAEAbCcAS4xpAAKA1AhAAIGcEYImwCQQAaCsBWGJ8EggA0BoBWCIsAAIAbSUAS4xNIABAawQgAEDOCMASYRMIANBWArDEOAUMALRGAJYMS4AAQNsIwBLjNjAAQGsEIABAzgjAEmETCADQVgKwxNgEAgC0RgCWCAuAAEBbCcASYwEQAGiNAAQAyBkBWCISu0AAgDbKXACuXLkyzj333Bg1alQUCoV46KGH0h6pR7EJBABoTeYCcNeuXTFlypS466670h6lR7H+BwC0Ve+0B2ivWbNmxaxZs9IeowezBAgAfLjMBWB7NTY2RmNjY/PjhoaGTvm+L7+xK/73M7+Pxj81dcr366jtb+9JewQAICNKPgBra2tj/vz5nf59716+KR5Y+0qnf9+OGtCv5P8vBQA6qORr4aabbop58+Y1P25oaIiKiooOf9/de/ZGRMSgg/rG5X8ztsPfrzOMHzEghpf3S3sMAKCHK/kALCsri7Kysk7/vu9turjm9KPiio+P6/TvDwDQVTK3C7incdsVACBrMrcCuHPnzti4cWPz45dffjnq6upi0KBBMXr06G6bw42XAYCsylwArl27Nk4//fTmx+9d3zdnzpxYsmRJt89jARAAyJrMBeBpp53WI1bf0p8AAKA4rgHsoIKLAAGAjBGAxbIECABklADsIAuAAEDWCMAiJZYAAYCMEoAdZAEQAMgaAQgAkDMCsEg94E40AABFEYAdZRcIAJAxArBIVgABgKwSgB1k/Q8AyBoBWCS3gQEAskoAdpBLAAGArBGARXINIACQVQKwgwquAgQAMkYAFskCIACQVQKwg1wDCABkjQAskmsAAYCsEoAdZAEQAMgaAVg0S4AAQDYJwA5yDSAAkDUCsEiuAQQAskoAdpD7AAIAWSMAi2QBEADIKgHYURYAAYCMEYAAADkjAIuU2AUCAGSUAOwgZ4ABgKwRgEWy/gcAZJUA7KCCO0EDABkjAIvkEkAAIKsEYAdZ/wMAskYAFskCIACQVQKwg1wCCABkjQAskvsAAgBZJQA7yAogAJA1AhAAIGcEYAcV7AMGADJGABbJJYAAQFYJwA5yDSAAkDUCsEiJOwECABklAAEAckYAFsk1gABAVgnADiq4CBAAyBgBCACQM5kNwLvuuivGjh0b/fr1i6qqqvjlL3/ZrT/fKWAAIKsyGYAPPPBAzJs3L2699db41a9+FVOmTIkZM2bEtm3bun0WJ4ABgKzJZAB+7Wtfi7lz58bll18exxxzTNx9991x4IEHxne+851um8FtYACArOqd9gDvSZIkduzY0err3n333Vi7dm1cd9110dDQ0Pz8KaecEitXroyrr766xesbGxujsbGx+fGSpzZERMRl96yIPv0PKnreVZvejIiI3bt2tJgDAKC7DBgwoKgNqYUk6RlXszU0NMTAgQPTHgMAIDPq6+ujvLy83f9ejwnAtq4AbtmyJSZMmBCPP/54TJs2rfn5W265JX7+85/HT3/60xavf/8K4PLnNsX/+ORp8Y1lK2PQ4CEdmnnYwf1i2hGD3ApmHxoaGqKioiJeeeWVot6YtM4x7h6Oc9dzjLuH49z10jjGxa4A9phTwIVCoU0Hq1+/ftGrV6/YuXNni9dv3749DjvssFa/x2l/+ecFJ46Lww8/vAMT0xbl5eX+oOlijnH3cJy7nmPcPRznrpeFY5y5TSB9+/aNE044IZ588snm55qamuLJJ5+M6urqFCcDAMiGHrMC2B7z5s2LOXPmxIknnhjTpk2LhQsXxq5du+Lyyy9PezQAgB4vkwF48cUXxx//+Mf40pe+FFu3bo3jjjsuHn300Rg+fHir/25ZWVmLf9I1ysrK4tZbb3Wcu5Bj3D0c567nGHcPx7nrZekY95hNIN3lvd3Gxe6aAQDIusxdAwgAQMcIQACAnBGAAAA5IwABAHImdwH4zW9+MyIihg4dGlVVVfHLX/4y5YlKy5e//OUoFAotfk2YMCHtsTJt5cqVce6558aoUaOiUCjEQw891OLrSZLEl770pRg5cmT0798/pk+fHhs2bEhn2Axr7ThfdtllH3hvz5w5M51hM6q2tjamTp0aAwYMiGHDhsX5558f69evb/Gad955J2pqamLw4MFx8MEHx0UXXRSvv/56ShNnT1uO8WmnnfaB9/JnP/vZlCbOnkWLFkVlZWXzzZ6rq6vjkUceaf56Vt7DuQrABx54IG6++eaIiHjqqadiypQpMWPGjNi2bVvKk5WWSZMmxZYtW5p/Pf3002mPlGm7du2KKVOmxF133bXPry9YsCC+8Y1vxN133x2/+MUv4qCDDooZM2bEO++8082TZltrxzkiYubMmS3e2/fdd183Tph9K1asiJqamli9enU8/vjjsWfPnjj77LNj165dza+54YYb4sc//nE8+OCDsWLFivjDH/4QF154YYpTZ0tbjnFExNy5c1u8lxcsWJDSxNlz+OGHx5133hnPPvtsrF27Ns4444w477zz4sUXX4yIDL2HkxyZNm1aMnfu3CQikvr6+mTv3r3JqFGjktra2rRHKxm33nprMmXKlLTHKFkRkSxbtqz5cVNTUzJixIjkq1/9avNz27dvT8rKypL77rsvhQlLw/uPc5IkyZw5c5LzzjsvlXlK1bZt25KISFasWJEkyZ/fu3369EkefPDB5te89NJLSUQkq1atSmvMTHv/MU6SJDn11FOT6667Lr2hStChhx6afPvb387Uezg3K4DvvvtuPPvss3Haaac1P3fAAQfE9OnTY9WqVekNVoI2bNgQo0aNiiOOOCJmz54dmzdvTnukkvXyyy/H1q1bY/r06c3PDRw4MKqqqryvu8Dy5ctj2LBhMX78+Pj7v//7ePPNN9MeKdPq6+sjImLQoEEREfHss8/Gnj17WryfJ0yYEKNHj/Z+LtL7j/F7vvvd78aQIUNi8uTJcdNNN8Xbb7+dxniZt3fv3rj//vtj165dUV1dnan3cCY/CaQYb7zxRuzduzeGDRvW4vnhw4fHf/zHf6Q0VempqqqKJUuWxPjx42PLli0xf/78OPnkk+OFF16IAQMGpD1eydm6dWtExAc+BWf48OHNX6NzzJw5My688MIYN25cbNq0KW6++eaYNWtWrFq1Knr16pX2eJnT1NQU119/fZx00kkxefLkiPjz+7lv375xyCGHtHit93Nx9nWMIyI+85nPxJgxY2LUqFHx/PPPx4033hjr16+PH/7whylOmy3r1q2L6urqeOedd+Lggw+OZcuWxTHHHBN1dXWZeQ/nJgDpHrNmzWr+fWVlZVRVVcWYMWPie9/7Xlx55ZUpTgYd8+lPf7r598cee2xUVlbGkUceGcuXL48zzzwzxcmyqaamJl544QXXCHeh/R3jv/u7v2v+/bHHHhsjR46MM888MzZt2hRHHnlkd4+ZSePHj4+6urqor6+P73//+zFnzpxYsWJF2mO1S25OAQ8ZMiR69er1gQ0fr7/+eowYMSKlqUrfIYccEh/5yEdi48aNaY9Skt57775/h5n3ddc74ogjYsiQId7bRbjmmmviJz/5SfzsZz+Lww8/vPn5ESNGxLvvvhvbt29v8Xrv5/bb3zHel6qqqogI7+V26Nu3bxx11FFxwgknRG1tbUyZMiW+/vWvZ+o9nJsA7Nu3b5xwwgktCr2pqSmefPLJqK6uTnGy0rZz587YtGlTjBw5Mu1RStK4ceNixIgR8eSTTzY/19DQEL/4xS+8r7vYq6++Gm+++ab3djskSRLXXHNNLFu2LH7605/GuHHjWnz9hBNOiD59+rR4P69fvz42b97s/dxGrR3jfamrq4uI8F7ugKampmhsbMzUezhXp4DnzZsXl156aUT8+f+Qb3/727Fr1664/PLLU56sdHz+85+Pc889N8aMGRN/+MMf4tZbb41evXrFJZdckvZombVz584WfzN/+eWXo66uLgYNGhSjR4+O66+/Pm677bY4+uijY9y4cXHLLbfEqFGj4vzzz09v6Az6sOM8aNCgmD9/flx00UUxYsSI2LRpU3zxi1+Mo446KmbMmJHi1NlSU1MTS5cujYcffjgGDBjQfE3UwIEDo3///jFw4MC48sorY968eTFo0KAoLy+Pa6+9Nqqrq+NjH/tYytNnQ2vHeNOmTbF06dL4xCc+EYMHD47nn38+brjhhjjllFOisrIy5emz4aabbopZs2bF6NGjY8eOHbF06dJYvnx5PPbYY9l6D6e9Dbm7LViwIImIpE+fPsm0adOS1atXpz1SSbn44ouTkSNHJn379k0OO+yw5OKLL042btyY9liZ9rOf/SyJiA/8mjNnTpIkf74VzC233JIMHz48KSsrS84888xk/fr16Q6dQR92nN9+++3k7LPPToYOHZr06dMnGTNmTDJ37txk69ataY+dKfs6vhGRLF68uPk1u3fvTq6++urk0EMPTQ488MDkggsuSLZs2ZLe0BnT2jHevHlzcsoppySDBg1KysrKkqOOOir5whe+kNTX16c7eIZcccUVyZgxY5K+ffsmQ4cOTc4888zk3//935u/npX3cCFJkqQbezN1SZLEjh07YsCAAVEoFNIeBwCg2+UuAAEA8i43m0AAAPgzAQgAkDMCEAAgZwQgAEDOCEAAgJwRgAAAOSMAAQByRgACAOSMAAQAyBkBCLAPW7dujUKhEF//+tfjox/9aPTr1y8mTZoUTz/9dNqjAXSYAATYh7q6uoiI+M53vhMLFy6Murq6GD16dMyePTuamprSHQ6gg3qnPQBAT/Tcc89Fnz594uGHH46xY8dGRMRtt90WJ554Yrz22mtRUVGR7oAAHWAFEGAf6urq4sILL2yOv4iI8vLy9AYC6EQCEGAf6urq4rjjjmvx3KpVq2LIkCFx2GGHpTMUQCcRgADvs3v37tiwYUPs3bu3+bmmpqZYuHBhzJkzJw44wB+dQLb5UwzgfdatWxeFQiHuvffeWLVqVbz00ktx8cUXx/bt2+Mf//Ef0x4PoMMEIMD71NXVxYQJE+Lmm2+Oiy66KE488cTYu3dvrFixIg455JC0xwPosEKSJEnaQwD0JDU1NfHWW2/F0qVL0x4FoEtYAQR4n7q6uqisrEx7DIAuIwAB/oskSWLdunUCEChpTgEDAOSMFUAAgJwRgAAAOSMAAQByRgACAOSMAAQAyBkBCACQMwIQACBnBCAAQM4IQACAnBGAAAA5IwABAHJGAAIA5IwABADIGQEIAJAzAhAAIGcEIABAzghAAICcEYAAADnz/wH4Sr4O2RVXoQAAAABJRU5ErkJggg==' width=640.0/>\n",
       "            </div>\n",
       "        "
      ],
      "text/plain": [
       "Canvas(toolbar=Toolbar(toolitems=[('Home', 'Reset original view', 'home', 'home'), ('Back', 'Back to previous …"
      ]
     },
     "metadata": {},
     "output_type": "display_data"
    },
    {
     "data": {
      "text/plain": [
       "<sympy.plotting.plot.Plot at 0x79276d76a770>"
      ]
     },
     "execution_count": 26,
     "metadata": {},
     "output_type": "execute_result"
    }
   ],
   "source": [
    "# Seems to work as expected, but I'd rather not calculate roots for each var pair.\n",
    "# Maybe it is not a problem, especially for higher moments the cost would be minimal.\n",
    "plot(sy.floor(index_to_row - 1), (_p, 0, 30))"
   ]
  },
  {
   "cell_type": "code",
   "execution_count": 29,
   "id": "212879a0-028a-4a32-be34-cdbeeee8a97f",
   "metadata": {},
   "outputs": [
    {
     "data": {
      "text/plain": [
       "31"
      ]
     },
     "execution_count": 29,
     "metadata": {},
     "output_type": "execute_result"
    }
   ],
   "source": [
    "# Insteaad of calculating by formula above we can pre-calculate row indices.\n",
    "# only need to calculate this sequence once for the biggest accumulator matrix size (up to 5k elements, maybe slightly more).\n",
    "# 2 options: calculate it in the GPU or calc it python and send it there.\n",
    "def row_starts():\n",
    "    p = 0\n",
    "    i = 0\n",
    "    while True:\n",
    "        i += p\n",
    "        yield i\n",
    "        p += 1\n",
    "\n",
    "\n",
    "starts = row_starts()\n",
    "# Number of bits an index pointer needs to support 5000x5000 triangle matrix.\n",
    "# p**2 * 8 is size of the pair matrix of double elements.\n",
    "math.ceil(math.log2([next(starts) for _ in range(5001)][-1] * p**2 * 8))"
   ]
  },
  {
   "cell_type": "code",
   "execution_count": 19,
   "id": "a0bc092a-ed53-4596-baf2-c549c9bce6d6",
   "metadata": {},
   "outputs": [],
   "source": [
    "# Convert the accumulator triangle matrix into a numpy matrix.\n",
    "# Will need this for inspection / debugging.\n",
    "# Alternative implementation of this procedure can use np.tril_indices()\n",
    "def acc_to_numpy(nrows, acc):\n",
    "    out = np.zeros((nrows, nrows), dtype=dtype)\n",
    "    row_len = 1\n",
    "    idx = 0\n",
    "    for i in range(nrows):\n",
    "        for j in range(row_len):\n",
    "            out[i, j] = acc[idx]\n",
    "            idx += 1\n",
    "        row_len += 1\n",
    "    return out"
   ]
  },
  {
   "cell_type": "code",
   "execution_count": 32,
   "id": "751d3528-6266-4e35-8827-8537f4b39b72",
   "metadata": {},
   "outputs": [],
   "source": [
    "ck_pairs_update = cp.RawKernel(\n",
    "    r\"\"\"\n",
    "typedef double T;\n",
    "\n",
    "extern \"C\" __global__\n",
    "void update_pair(const int p, // Currently used also also as the cell size. \n",
    "               const int powers_idx_a, const int powers_idx_b, const int acc_idx, \n",
    "               const T* x_powers, T* acc) {\n",
    "               \n",
    "  // const int tid = blockDim.x * blockIdx.x + threadIdx.x; // DEBUG\n",
    "  // printf(\"SUB <%d (b=%d, t=%d)> # %d \\n\", tid, blockIdx.x, threadIdx.x, p);\n",
    "  \n",
    "  for (int pa = 0; pa < p; pa++) {\n",
    "    for (int pb = 0; pb < p; pb++) {\n",
    "      // TODO Could probably cast T[p][p] cell = (T[p][p])(&acc[acc_idx]) for convenience.\n",
    "      acc[acc_idx + pa * p + pb] += x_powers[powers_idx_a + pa] * x_powers[powers_idx_b + pb];\n",
    "     }\n",
    "  }\n",
    "}\n",
    "\n",
    "extern \"C\" __global__\n",
    "void pairs_update(const int n, const int p, const int* row_indexes, const T* x_powers, T* acc) {\n",
    "  const int tid = blockDim.x * blockIdx.x + threadIdx.x;\n",
    "  printf(\"<%d (b=%d, t=%d)> # %d %d \\n\", tid, blockIdx.x, threadIdx.x, n, p);\n",
    "  \n",
    "  const int row_i = tid;\n",
    "  const int next_row_i = row_indexes[row_i + 1];\n",
    "  int acc_i = row_indexes[row_i];\n",
    "  int col_i = 0;\n",
    "  for (; acc_i < next_row_i; acc_i++) { \n",
    "    update_pair(p, row_i, col_i, acc_i, x_powers, acc);\n",
    "  }\n",
    "}\n",
    "asdfasdf\n",
    "\"\"\",\n",
    "    \"pairs_update\",\n",
    ")"
   ]
  },
  {
   "cell_type": "code",
   "execution_count": 33,
   "id": "acf64400-c10a-4874-8537-3a6e323b5cb2",
   "metadata": {},
   "outputs": [
    {
     "name": "stdout",
     "output_type": "stream",
     "text": [
      "[ 0  1  3  6 10 15]\n"
     ]
    },
    {
     "ename": "CompileException",
     "evalue": "/tmp/tmppnqt4uau/999ce89e6d8d442f2b8f43391e62e68252574de5.cubin.cu(33): error: this declaration has no storage class or type specifier\n\n/tmp/tmppnqt4uau/999ce89e6d8d442f2b8f43391e62e68252574de5.cubin.cu(33): error: A namespace scope variable without memory space annotations (__device__/__constant__/__shared__/__managed__) is considered a host variable, and host variables are not allowed in JIT mode. Consider using -default-device flag to process unannotated namespace scope variables as __device__ variables in JIT mode\n\nAt end of source: error: expected a \";\"\n\n3 errors detected in the compilation of \"/tmp/tmppnqt4uau/999ce89e6d8d442f2b8f43391e62e68252574de5.cubin.cu\".\n",
     "output_type": "error",
     "traceback": [
      "\u001b[0;31m---------------------------------------------------------------------------\u001b[0m",
      "\u001b[0;31mNVRTCError\u001b[0m                                Traceback (most recent call last)",
      "File \u001b[0;32m~/work/statmoments/venv/lib/python3.10/site-packages/cupy/cuda/compiler.py:677\u001b[0m, in \u001b[0;36m_NVRTCProgram.compile\u001b[0;34m(self, options, log_stream)\u001b[0m\n\u001b[1;32m    676\u001b[0m         nvrtc\u001b[38;5;241m.\u001b[39maddNameExpression(\u001b[38;5;28mself\u001b[39m\u001b[38;5;241m.\u001b[39mptr, ker)\n\u001b[0;32m--> 677\u001b[0m \u001b[43mnvrtc\u001b[49m\u001b[38;5;241;43m.\u001b[39;49m\u001b[43mcompileProgram\u001b[49m\u001b[43m(\u001b[49m\u001b[38;5;28;43mself\u001b[39;49m\u001b[38;5;241;43m.\u001b[39;49m\u001b[43mptr\u001b[49m\u001b[43m,\u001b[49m\u001b[43m \u001b[49m\u001b[43moptions\u001b[49m\u001b[43m)\u001b[49m\n\u001b[1;32m    678\u001b[0m mapping \u001b[38;5;241m=\u001b[39m \u001b[38;5;28;01mNone\u001b[39;00m\n",
      "File \u001b[0;32mcupy_backends/cuda/libs/nvrtc.pyx:125\u001b[0m, in \u001b[0;36mcupy_backends.cuda.libs.nvrtc.compileProgram\u001b[0;34m()\u001b[0m\n",
      "File \u001b[0;32mcupy_backends/cuda/libs/nvrtc.pyx:138\u001b[0m, in \u001b[0;36mcupy_backends.cuda.libs.nvrtc.compileProgram\u001b[0;34m()\u001b[0m\n",
      "File \u001b[0;32mcupy_backends/cuda/libs/nvrtc.pyx:53\u001b[0m, in \u001b[0;36mcupy_backends.cuda.libs.nvrtc.check_status\u001b[0;34m()\u001b[0m\n",
      "\u001b[0;31mNVRTCError\u001b[0m: NVRTC_ERROR_COMPILATION (6)",
      "\nDuring handling of the above exception, another exception occurred:\n",
      "\u001b[0;31mCompileException\u001b[0m                          Traceback (most recent call last)",
      "Cell \u001b[0;32mIn[33], line 11\u001b[0m\n\u001b[1;32m      8\u001b[0m row_indexes \u001b[38;5;241m=\u001b[39m cp\u001b[38;5;241m.\u001b[39marray(row_index, dtype\u001b[38;5;241m=\u001b[39mcp\u001b[38;5;241m.\u001b[39muint32)\n\u001b[1;32m      9\u001b[0m acc \u001b[38;5;241m=\u001b[39m cp\u001b[38;5;241m.\u001b[39mzeros((row_index[\u001b[38;5;241m-\u001b[39m\u001b[38;5;241m1\u001b[39m] \u001b[38;5;241m*\u001b[39m cell_size,), dtype\u001b[38;5;241m=\u001b[39mdtype)\n\u001b[0;32m---> 11\u001b[0m bs \u001b[38;5;241m=\u001b[39m \u001b[38;5;28mmin\u001b[39m(\u001b[43mck_pairs_update\u001b[49m\u001b[38;5;241;43m.\u001b[39;49m\u001b[43mmax_threads_per_block\u001b[49m, n)\n\u001b[1;32m     12\u001b[0m b \u001b[38;5;241m=\u001b[39m n \u001b[38;5;241m/\u001b[39m\u001b[38;5;241m/\u001b[39m bs\n\u001b[1;32m     13\u001b[0m \u001b[38;5;28;01mif\u001b[39;00m n \u001b[38;5;241m%\u001b[39m bs \u001b[38;5;241m!=\u001b[39m \u001b[38;5;241m0\u001b[39m:\n",
      "File \u001b[0;32mcupy/_core/raw.pyx:200\u001b[0m, in \u001b[0;36mcupy._core.raw.RawKernel.max_threads_per_block.__get__\u001b[0;34m()\u001b[0m\n",
      "File \u001b[0;32mcupy/_core/raw.pyx:100\u001b[0m, in \u001b[0;36mcupy._core.raw.RawKernel.kernel.__get__\u001b[0;34m()\u001b[0m\n",
      "File \u001b[0;32mcupy/_core/raw.pyx:117\u001b[0m, in \u001b[0;36mcupy._core.raw.RawKernel._kernel\u001b[0;34m()\u001b[0m\n",
      "File \u001b[0;32mcupy/_util.pyx:64\u001b[0m, in \u001b[0;36mcupy._util.memoize.decorator.ret\u001b[0;34m()\u001b[0m\n",
      "File \u001b[0;32mcupy/_core/raw.pyx:538\u001b[0m, in \u001b[0;36mcupy._core.raw._get_raw_module\u001b[0;34m()\u001b[0m\n",
      "File \u001b[0;32mcupy/_core/core.pyx:2236\u001b[0m, in \u001b[0;36mcupy._core.core.compile_with_cache\u001b[0;34m()\u001b[0m\n",
      "File \u001b[0;32mcupy/_core/core.pyx:2254\u001b[0m, in \u001b[0;36mcupy._core.core.compile_with_cache\u001b[0;34m()\u001b[0m\n",
      "File \u001b[0;32m~/work/statmoments/venv/lib/python3.10/site-packages/cupy/cuda/compiler.py:484\u001b[0m, in \u001b[0;36m_compile_module_with_cache\u001b[0;34m(source, options, arch, cache_dir, extra_source, backend, enable_cooperative_groups, name_expressions, log_stream, jitify)\u001b[0m\n\u001b[1;32m    480\u001b[0m     \u001b[38;5;28;01mreturn\u001b[39;00m _compile_with_cache_hip(\n\u001b[1;32m    481\u001b[0m         source, options, arch, cache_dir, extra_source, backend,\n\u001b[1;32m    482\u001b[0m         name_expressions, log_stream, cache_in_memory)\n\u001b[1;32m    483\u001b[0m \u001b[38;5;28;01melse\u001b[39;00m:\n\u001b[0;32m--> 484\u001b[0m     \u001b[38;5;28;01mreturn\u001b[39;00m \u001b[43m_compile_with_cache_cuda\u001b[49m\u001b[43m(\u001b[49m\n\u001b[1;32m    485\u001b[0m \u001b[43m        \u001b[49m\u001b[43msource\u001b[49m\u001b[43m,\u001b[49m\u001b[43m \u001b[49m\u001b[43moptions\u001b[49m\u001b[43m,\u001b[49m\u001b[43m \u001b[49m\u001b[43march\u001b[49m\u001b[43m,\u001b[49m\u001b[43m \u001b[49m\u001b[43mcache_dir\u001b[49m\u001b[43m,\u001b[49m\u001b[43m \u001b[49m\u001b[43mextra_source\u001b[49m\u001b[43m,\u001b[49m\u001b[43m \u001b[49m\u001b[43mbackend\u001b[49m\u001b[43m,\u001b[49m\n\u001b[1;32m    486\u001b[0m \u001b[43m        \u001b[49m\u001b[43menable_cooperative_groups\u001b[49m\u001b[43m,\u001b[49m\u001b[43m \u001b[49m\u001b[43mname_expressions\u001b[49m\u001b[43m,\u001b[49m\u001b[43m \u001b[49m\u001b[43mlog_stream\u001b[49m\u001b[43m,\u001b[49m\n\u001b[1;32m    487\u001b[0m \u001b[43m        \u001b[49m\u001b[43mcache_in_memory\u001b[49m\u001b[43m,\u001b[49m\u001b[43m \u001b[49m\u001b[43mjitify\u001b[49m\u001b[43m)\u001b[49m\n",
      "File \u001b[0;32m~/work/statmoments/venv/lib/python3.10/site-packages/cupy/cuda/compiler.py:562\u001b[0m, in \u001b[0;36m_compile_with_cache_cuda\u001b[0;34m(source, options, arch, cache_dir, extra_source, backend, enable_cooperative_groups, name_expressions, log_stream, cache_in_memory, jitify)\u001b[0m\n\u001b[1;32m    560\u001b[0m \u001b[38;5;28;01mif\u001b[39;00m backend \u001b[38;5;241m==\u001b[39m \u001b[38;5;124m'\u001b[39m\u001b[38;5;124mnvrtc\u001b[39m\u001b[38;5;124m'\u001b[39m:\n\u001b[1;32m    561\u001b[0m     cu_name \u001b[38;5;241m=\u001b[39m \u001b[38;5;124m'\u001b[39m\u001b[38;5;124m'\u001b[39m \u001b[38;5;28;01mif\u001b[39;00m cache_in_memory \u001b[38;5;28;01melse\u001b[39;00m name \u001b[38;5;241m+\u001b[39m \u001b[38;5;124m'\u001b[39m\u001b[38;5;124m.cu\u001b[39m\u001b[38;5;124m'\u001b[39m\n\u001b[0;32m--> 562\u001b[0m     ptx, mapping \u001b[38;5;241m=\u001b[39m \u001b[43mcompile_using_nvrtc\u001b[49m\u001b[43m(\u001b[49m\n\u001b[1;32m    563\u001b[0m \u001b[43m        \u001b[49m\u001b[43msource\u001b[49m\u001b[43m,\u001b[49m\u001b[43m \u001b[49m\u001b[43moptions\u001b[49m\u001b[43m,\u001b[49m\u001b[43m \u001b[49m\u001b[43march\u001b[49m\u001b[43m,\u001b[49m\u001b[43m \u001b[49m\u001b[43mcu_name\u001b[49m\u001b[43m,\u001b[49m\u001b[43m \u001b[49m\u001b[43mname_expressions\u001b[49m\u001b[43m,\u001b[49m\n\u001b[1;32m    564\u001b[0m \u001b[43m        \u001b[49m\u001b[43mlog_stream\u001b[49m\u001b[43m,\u001b[49m\u001b[43m \u001b[49m\u001b[43mcache_in_memory\u001b[49m\u001b[43m,\u001b[49m\u001b[43m \u001b[49m\u001b[43mjitify\u001b[49m\u001b[43m)\u001b[49m\n\u001b[1;32m    565\u001b[0m     \u001b[38;5;28;01mif\u001b[39;00m _is_cudadevrt_needed(options):\n\u001b[1;32m    566\u001b[0m         \u001b[38;5;66;03m# for separate compilation\u001b[39;00m\n\u001b[1;32m    567\u001b[0m         ls \u001b[38;5;241m=\u001b[39m function\u001b[38;5;241m.\u001b[39mLinkState()\n",
      "File \u001b[0;32m~/work/statmoments/venv/lib/python3.10/site-packages/cupy/cuda/compiler.py:319\u001b[0m, in \u001b[0;36mcompile_using_nvrtc\u001b[0;34m(source, options, arch, filename, name_expressions, log_stream, cache_in_memory, jitify)\u001b[0m\n\u001b[1;32m    316\u001b[0m         \u001b[38;5;28;01mwith\u001b[39;00m \u001b[38;5;28mopen\u001b[39m(cu_path, \u001b[38;5;124m'\u001b[39m\u001b[38;5;124mw\u001b[39m\u001b[38;5;124m'\u001b[39m) \u001b[38;5;28;01mas\u001b[39;00m cu_file:\n\u001b[1;32m    317\u001b[0m             cu_file\u001b[38;5;241m.\u001b[39mwrite(source)\n\u001b[0;32m--> 319\u001b[0m         \u001b[38;5;28;01mreturn\u001b[39;00m \u001b[43m_compile\u001b[49m\u001b[43m(\u001b[49m\u001b[43msource\u001b[49m\u001b[43m,\u001b[49m\u001b[43m \u001b[49m\u001b[43moptions\u001b[49m\u001b[43m,\u001b[49m\u001b[43m \u001b[49m\u001b[43mcu_path\u001b[49m\u001b[43m,\u001b[49m\n\u001b[1;32m    320\u001b[0m \u001b[43m                        \u001b[49m\u001b[43mname_expressions\u001b[49m\u001b[43m,\u001b[49m\u001b[43m \u001b[49m\u001b[43mlog_stream\u001b[49m\u001b[43m,\u001b[49m\u001b[43m \u001b[49m\u001b[43mjitify\u001b[49m\u001b[43m)\u001b[49m\n\u001b[1;32m    321\u001b[0m \u001b[38;5;28;01melse\u001b[39;00m:\n\u001b[1;32m    322\u001b[0m     cu_path \u001b[38;5;241m=\u001b[39m \u001b[38;5;124m'\u001b[39m\u001b[38;5;124m'\u001b[39m \u001b[38;5;28;01mif\u001b[39;00m \u001b[38;5;129;01mnot\u001b[39;00m jitify \u001b[38;5;28;01melse\u001b[39;00m filename\n",
      "File \u001b[0;32m~/work/statmoments/venv/lib/python3.10/site-packages/cupy/cuda/compiler.py:303\u001b[0m, in \u001b[0;36mcompile_using_nvrtc.<locals>._compile\u001b[0;34m(source, options, cu_path, name_expressions, log_stream, jitify)\u001b[0m\n\u001b[1;32m    300\u001b[0m prog \u001b[38;5;241m=\u001b[39m _NVRTCProgram(source, cu_path, headers, include_names,\n\u001b[1;32m    301\u001b[0m                      name_expressions\u001b[38;5;241m=\u001b[39mname_expressions, method\u001b[38;5;241m=\u001b[39mmethod)\n\u001b[1;32m    302\u001b[0m \u001b[38;5;28;01mtry\u001b[39;00m:\n\u001b[0;32m--> 303\u001b[0m     compiled_obj, mapping \u001b[38;5;241m=\u001b[39m \u001b[43mprog\u001b[49m\u001b[38;5;241;43m.\u001b[39;49m\u001b[43mcompile\u001b[49m\u001b[43m(\u001b[49m\u001b[43moptions\u001b[49m\u001b[43m,\u001b[49m\u001b[43m \u001b[49m\u001b[43mlog_stream\u001b[49m\u001b[43m)\u001b[49m\n\u001b[1;32m    304\u001b[0m \u001b[38;5;28;01mexcept\u001b[39;00m CompileException \u001b[38;5;28;01mas\u001b[39;00m e:\n\u001b[1;32m    305\u001b[0m     dump \u001b[38;5;241m=\u001b[39m _get_bool_env_variable(\n\u001b[1;32m    306\u001b[0m         \u001b[38;5;124m'\u001b[39m\u001b[38;5;124mCUPY_DUMP_CUDA_SOURCE_ON_ERROR\u001b[39m\u001b[38;5;124m'\u001b[39m, \u001b[38;5;28;01mFalse\u001b[39;00m)\n",
      "File \u001b[0;32m~/work/statmoments/venv/lib/python3.10/site-packages/cupy/cuda/compiler.py:696\u001b[0m, in \u001b[0;36m_NVRTCProgram.compile\u001b[0;34m(self, options, log_stream)\u001b[0m\n\u001b[1;32m    694\u001b[0m \u001b[38;5;28;01mexcept\u001b[39;00m nvrtc\u001b[38;5;241m.\u001b[39mNVRTCError:\n\u001b[1;32m    695\u001b[0m     log \u001b[38;5;241m=\u001b[39m nvrtc\u001b[38;5;241m.\u001b[39mgetProgramLog(\u001b[38;5;28mself\u001b[39m\u001b[38;5;241m.\u001b[39mptr)\n\u001b[0;32m--> 696\u001b[0m     \u001b[38;5;28;01mraise\u001b[39;00m CompileException(log, \u001b[38;5;28mself\u001b[39m\u001b[38;5;241m.\u001b[39msrc, \u001b[38;5;28mself\u001b[39m\u001b[38;5;241m.\u001b[39mname, options,\n\u001b[1;32m    697\u001b[0m                            \u001b[38;5;124m'\u001b[39m\u001b[38;5;124mnvrtc\u001b[39m\u001b[38;5;124m'\u001b[39m \u001b[38;5;28;01mif\u001b[39;00m \u001b[38;5;129;01mnot\u001b[39;00m runtime\u001b[38;5;241m.\u001b[39mis_hip \u001b[38;5;28;01melse\u001b[39;00m \u001b[38;5;124m'\u001b[39m\u001b[38;5;124mhiprtc\u001b[39m\u001b[38;5;124m'\u001b[39m)\n",
      "\u001b[0;31mCompileException\u001b[0m: /tmp/tmppnqt4uau/999ce89e6d8d442f2b8f43391e62e68252574de5.cubin.cu(33): error: this declaration has no storage class or type specifier\n\n/tmp/tmppnqt4uau/999ce89e6d8d442f2b8f43391e62e68252574de5.cubin.cu(33): error: A namespace scope variable without memory space annotations (__device__/__constant__/__shared__/__managed__) is considered a host variable, and host variables are not allowed in JIT mode. Consider using -default-device flag to process unannotated namespace scope variables as __device__ variables in JIT mode\n\nAt end of source: error: expected a \";\"\n\n3 errors detected in the compilation of \"/tmp/tmppnqt4uau/999ce89e6d8d442f2b8f43391e62e68252574de5.cubin.cu\".\n"
     ]
    }
   ],
   "source": [
    "starts = row_starts()\n",
    "# Note adding 1 to the number of rows to get total elemen count as the last element.\n",
    "row_index = np.array([next(starts) for _ in range(n + 1)], dtype=np.uint32)\n",
    "print(row_index)\n",
    "assert row_index[-1] == math.floor((n + 1) * n / 2)\n",
    "cell_size = p\n",
    "\n",
    "row_indexes = cp.array(row_index, dtype=cp.uint32)\n",
    "acc = cp.zeros((row_index[-1] * cell_size,), dtype=dtype)\n",
    "\n",
    "bs = min(ck_pairs_update.max_threads_per_block, n)\n",
    "b = n // bs\n",
    "if n % bs != 0:\n",
    "    b += 1\n",
    "print(b, bs)\n",
    "# Parameters: grid (number of blocks), block size followed by the kernel arguments\n",
    "ck_pairs_update((b,), (bs,), (n, p, row_indexes, x_powers, acc))\n",
    "print(acc)\n",
    "print(acc_to_numpy(n, acc))"
   ]
  },
  {
   "cell_type": "code",
   "execution_count": null,
   "id": "b3a5667d-9c9a-4046-9d19-43a78c2f9cc0",
   "metadata": {},
   "outputs": [],
   "source": []
  }
 ],
 "metadata": {
  "kernelspec": {
   "display_name": "statmoments-venv",
   "language": "python",
   "name": "statmoments-venv"
  },
  "language_info": {
   "codemirror_mode": {
    "name": "ipython",
    "version": 3
   },
   "file_extension": ".py",
   "mimetype": "text/x-python",
   "name": "python",
   "nbconvert_exporter": "python",
   "pygments_lexer": "ipython3",
   "version": "3.10.12"
  }
 },
 "nbformat": 4,
 "nbformat_minor": 5
}
