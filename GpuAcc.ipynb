{
 "cells": [
  {
   "cell_type": "code",
   "execution_count": 1,
   "id": "86da56ff-d661-4ac7-b191-86f228228042",
   "metadata": {},
   "outputs": [],
   "source": [
    "# !pip install ipympl\n",
    "# pip install black isort jupyterlab-code-formatter"
   ]
  },
  {
   "cell_type": "code",
   "execution_count": 2,
   "id": "04586951",
   "metadata": {},
   "outputs": [
    {
     "data": {
      "text/plain": [
       "(<CUDA Device 0>, '86', <Stream 0 (device -1)>)"
      ]
     },
     "execution_count": 2,
     "metadata": {},
     "output_type": "execute_result"
    }
   ],
   "source": [
    "%matplotlib widget\n",
    "import itertools as iter\n",
    "import math\n",
    "\n",
    "import cupy as cp\n",
    "import matplotlib.pyplot as plt\n",
    "import numpy as np\n",
    "import scipy as sp\n",
    "import scipy.linalg.blas as sblas\n",
    "import sympy as sy\n",
    "from sympy.plotting import plot\n",
    "\n",
    "cp.cuda.Device(), cp.cuda.device.get_compute_capability(), cp.cuda.get_current_stream()"
   ]
  },
  {
   "cell_type": "code",
   "execution_count": 3,
   "id": "9a5e4431",
   "metadata": {},
   "outputs": [],
   "source": [
    "x_cpu = np.array([1, 2, 3])\n",
    "y_cpu = np.array([4, 5, 6])\n",
    "x_gpu = cp.asarray(x_cpu)"
   ]
  },
  {
   "cell_type": "code",
   "execution_count": 4,
   "id": "1bc4076f",
   "metadata": {},
   "outputs": [
    {
     "data": {
      "text/plain": [
       "array([5, 7, 9])"
      ]
     },
     "execution_count": 4,
     "metadata": {},
     "output_type": "execute_result"
    }
   ],
   "source": [
    "cp.asnumpy(x_gpu) + y_cpu"
   ]
  },
  {
   "cell_type": "code",
   "execution_count": 5,
   "id": "478f6cdf",
   "metadata": {},
   "outputs": [
    {
     "data": {
      "text/plain": [
       "array([5, 7, 9])"
      ]
     },
     "execution_count": 5,
     "metadata": {},
     "output_type": "execute_result"
    }
   ],
   "source": [
    "x_gpu + cp.asarray(y_cpu)"
   ]
  },
  {
   "cell_type": "code",
   "execution_count": 6,
   "id": "86b4597c",
   "metadata": {},
   "outputs": [],
   "source": [
    "sg_all = cp.asarray([])\n",
    "s_cpall = cp.asnumpy(sg_all)"
   ]
  },
  {
   "cell_type": "code",
   "execution_count": 7,
   "id": "bd2d68f4",
   "metadata": {},
   "outputs": [],
   "source": [
    "# plt.plot([1, 34, 23, 55, 8])\n",
    "# plt.show()"
   ]
  },
  {
   "cell_type": "code",
   "execution_count": 8,
   "id": "44c75804",
   "metadata": {},
   "outputs": [
    {
     "data": {
      "text/plain": [
       "array([[ 42,  45,  48],\n",
       "       [150, 162, 174],\n",
       "       [258, 279, 300]])"
      ]
     },
     "execution_count": 8,
     "metadata": {},
     "output_type": "execute_result"
    }
   ],
   "source": [
    "import cupy\n",
    "\n",
    "x = cupy.array(range(9)).reshape((3, 3))\n",
    "y = cupy.array(range(9, 18)).reshape((3, 3))\n",
    "expected = cupy.matmul(x, y)\n",
    "cupy.cuda.Device().synchronize()\n",
    "\n",
    "stream = cupy.cuda.stream.Stream()\n",
    "with stream:\n",
    "    for k in range(10000):\n",
    "        z = cupy.matmul(x, y)\n",
    "stream.synchronize()\n",
    "cupy.testing.assert_array_equal(z, expected)\n",
    "\n",
    "stream = cupy.cuda.stream.Stream()\n",
    "stream.use()\n",
    "z = cupy.matmul(x, y)\n",
    "stream.synchronize()\n",
    "cupy.testing.assert_array_equal(z, expected)\n",
    "z"
   ]
  },
  {
   "cell_type": "code",
   "execution_count": 9,
   "id": "3ae00940-810a-490f-a395-953ce9ed3108",
   "metadata": {},
   "outputs": [
    {
     "data": {
      "text/plain": [
       "array([[ 0.,  2.,  4.],\n",
       "       [ 0.,  4., 10.]])"
      ]
     },
     "execution_count": 9,
     "metadata": {},
     "output_type": "execute_result"
    }
   ],
   "source": [
    "# https://docs.cupy.dev/en/stable/user_guide/kernel.html\n",
    "# EXAMPLE\n",
    "kernel = cp.ElementwiseKernel(\n",
    "    \"T x, T y\",\n",
    "    \"T z\",\n",
    "    \"\"\"\n",
    "     if (x - 2 > y) {\n",
    "       z = x * y;\n",
    "     } else {\n",
    "       z = x + y;\n",
    "     }\n",
    "     \"\"\",\n",
    "    \"my_kernel\",\n",
    ")\n",
    "\n",
    "x = cp.arange(6, dtype=\"d\").reshape(2, 3)\n",
    "y = cp.arange(3, dtype=\"d\")\n",
    "kernel(x, y)"
   ]
  },
  {
   "cell_type": "code",
   "execution_count": 10,
   "id": "58cb8360-877b-4da6-81ed-1ac94003d845",
   "metadata": {},
   "outputs": [
    {
     "data": {
      "text/plain": [
       "array([[ 0.,  2.,  4.,  6.,  8.],\n",
       "       [10., 12., 14., 16., 18.],\n",
       "       [20., 22., 24., 26., 28.],\n",
       "       [30., 32., 34., 36., 38.],\n",
       "       [40., 42., 44., 46., 48.]], dtype=float32)"
      ]
     },
     "execution_count": 10,
     "metadata": {},
     "output_type": "execute_result"
    }
   ],
   "source": [
    "# EXAMPLE\n",
    "add_kernel = cp.RawKernel(\n",
    "    r\"\"\"\n",
    "typedef float T;\n",
    "\n",
    "extern \"C\" __global__\n",
    "void my_add(const T* x1, const T* x2, T* y) {\n",
    "    int tid = blockDim.x * blockIdx.x + threadIdx.x;\n",
    "    y[tid] = x1[tid] + x2[tid];\n",
    "}\n",
    "\"\"\",\n",
    "    \"my_add\",\n",
    ")\n",
    "x1 = cp.arange(25, dtype=cp.float32).reshape(5, 5)\n",
    "x2 = cp.arange(25, dtype=cp.float32).reshape(5, 5)\n",
    "y = cp.zeros((5, 5), dtype=cp.float32)\n",
    "add_kernel((5,), (5,), (x1, x2, y))  # grid, block and arguments\n",
    "\n",
    "y"
   ]
  },
  {
   "cell_type": "code",
   "execution_count": 11,
   "id": "fff2c6ca-bb52-4a17-9cbc-5bc6cd2477ec",
   "metadata": {},
   "outputs": [],
   "source": [
    "# cp.cuda.Device().attributes"
   ]
  },
  {
   "cell_type": "code",
   "execution_count": 12,
   "id": "46bbed5c-9c57-4753-94c7-f9e9489d67c5",
   "metadata": {},
   "outputs": [],
   "source": [
    "# Float type to use. Update CUDA kernels when changing this.\n",
    "dtype = cp.float64\n",
    "n = 5  # Number of scalar values in a measurement\n",
    "p = 4  # Max moment degree to calc"
   ]
  },
  {
   "cell_type": "code",
   "execution_count": 13,
   "id": "d44463b5-04e6-4099-9e52-842dde4ff706",
   "metadata": {},
   "outputs": [
    {
     "data": {
      "text/plain": [
       "{'max_threads_per_block': 1024,\n",
       " 'shared_size_bytes': 0,\n",
       " 'const_size_bytes': 0,\n",
       " 'local_size_bytes': 0,\n",
       " 'num_regs': 38,\n",
       " 'ptx_version': 86,\n",
       " 'binary_version': 86,\n",
       " 'cache_mode_ca': 0,\n",
       " 'max_dynamic_shared_size_bytes': 49152,\n",
       " 'preferred_shared_memory_carveout': -1}"
      ]
     },
     "execution_count": 13,
     "metadata": {},
     "output_type": "execute_result"
    }
   ],
   "source": [
    "ck_powers = cp.RawKernel(\n",
    "    r\"\"\"\n",
    "typedef double T;\n",
    "\n",
    "extern \"C\" __global__\n",
    "void powers(const int p, const T* x, T* y) {\n",
    "    const int tid = blockDim.x * blockIdx.x + threadIdx.x;\n",
    "    const T z = x[tid];\n",
    "    T c = z;\n",
    "    int n = p;\n",
    "    int i = tid * p;\n",
    "    while (true) {\n",
    "        // printf(\"<%d (b=%d, t=%d)> [%d] at %d = %f # %d\\n\", tid, blockIdx.x, threadIdx.x, i, n, c, p);\n",
    "        y[i++] = c;\n",
    "        if (n <= 1) break;\n",
    "        n--;\n",
    "        c *= z;\n",
    "    }\n",
    "}\n",
    "\"\"\",\n",
    "    \"powers\",\n",
    ")\n",
    "ck_powers.attributes"
   ]
  },
  {
   "cell_type": "code",
   "execution_count": 14,
   "id": "7bda4c9c-eb21-4e19-a1e2-1351d3080ff9",
   "metadata": {},
   "outputs": [
    {
     "name": "stdout",
     "output_type": "stream",
     "text": [
      "[1. 2. 3. 4. 5.]\n",
      "1 5\n",
      "[[  1.   1.   1.   1.]\n",
      " [  2.   4.   8.  16.]\n",
      " [  3.   9.  27.  81.]\n",
      " [  4.  16.  64. 256.]\n",
      " [  5.  25. 125. 625.]]\n"
     ]
    }
   ],
   "source": [
    "try:\n",
    "    x = cp.arange(n, dtype=dtype) + 1\n",
    "    print(x)\n",
    "    x_powers = cp.zeros((n, p), dtype=dtype)\n",
    "\n",
    "    bs = min(ck_powers.max_threads_per_block, n)\n",
    "    b = n // bs\n",
    "    if n % bs != 0:\n",
    "        b += 1\n",
    "    print(b, bs)\n",
    "\n",
    "    ck_powers(\n",
    "        (b,), (bs,), (p, x, x_powers)\n",
    "    )  # grid (number of blocks), block and arguments\n",
    "    print(x_powers)\n",
    "finally:\n",
    "    pass\n",
    "    # del x\n",
    "    # del x_powers"
   ]
  },
  {
   "cell_type": "code",
   "execution_count": 15,
   "id": "ba01754b-fbfa-451e-947d-53c33b33f5d2",
   "metadata": {},
   "outputs": [],
   "source": [
    "# We could use compact representation of a triangle matrix that allows scheduling even-sized tasks (one per row).\n",
    "# Example\n",
    "# For matrix\n",
    "# 1\n",
    "# 2 3\n",
    "# 4 5 6\n",
    "# 7 8 9 10\n",
    "# The representation would be\n",
    "# 1 7 8 9 10\n",
    "# 2 3 4 5 6\n",
    "# Rows are combined to have equal row lengths, number of rows in this representation is ceil(half the size) of the original matrix.\n",
    "# Note that width of the matrix in this case is rounded up to multiply of 2.\n",
    "# For example extending the example matrix above to range 1..15 will be laid out as\n",
    "# 11 12 13 14 15\n",
    "# 1  7  8  9  10\n",
    "# 2  3  4  5  6\n",
    "# In this case the kernel will have to have 2 loops (or a condition in a loop) to distinguish between left and right rows in the array.\n",
    "# A down side might be in exporting the data to the host: it will have to know how to handle this format.\n",
    "\n",
    "# Settling on the straightforward format for now, just row-major with variable row lenghts. For example for the matrix above, the layout would be\n",
    "# 1 2 3 4 5 6 7 8 ..."
   ]
  },
  {
   "cell_type": "code",
   "execution_count": 16,
   "id": "fa0ec111-1848-47fc-96bb-1c4d7e25ba44",
   "metadata": {},
   "outputs": [
    {
     "data": {
      "text/latex": [
       "$\\displaystyle \\frac{\\sqrt{8 p + 1}}{2} + \\frac{1}{2}$"
      ],
      "text/plain": [
       "sqrt(8*p + 1)/2 + 1/2"
      ]
     },
     "execution_count": 16,
     "metadata": {},
     "output_type": "execute_result"
    }
   ],
   "source": [
    "# Looking an element at specific offset in memory, we can calculate it's row and column in the (lower) triangle matrix.\n",
    "from sympy import Symbol\n",
    "from sympy.solvers import solve\n",
    "\n",
    "_p = Symbol(\"p\", positive=True, real=True)\n",
    "_n = Symbol(\"n\", positive=True, real=True)\n",
    "# Mapping index in triangle into row number\n",
    "index_to_row = solve((_n * _n - _n) / 2 - _p, _n)[1]\n",
    "index_to_row"
   ]
  },
  {
   "cell_type": "code",
   "execution_count": 17,
   "id": "5247a9b5-3a11-43e8-aeb6-0e36eb15dd95",
   "metadata": {},
   "outputs": [
    {
     "data": {
      "application/vnd.jupyter.widget-view+json": {
       "model_id": "ae8cb5c400af48c188869c48f5646d9c",
       "version_major": 2,
       "version_minor": 0
      },
      "image/png": "[encoded data removed]",
      "text/html": [
       "\n",
       "            <div style=\"display: inline-block;\">\n",
       "                <div class=\"jupyter-widgets widget-label\" style=\"text-align: center;\">\n",
       "                    Figure\n",
       "                </div>\n",
       "                <img src='data:image/png;base64,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' width=640.0/>\n",
       "            </div>\n",
       "        "
      ],
      "text/plain": [
       "Canvas(toolbar=Toolbar(toolitems=[('Home', 'Reset original view', 'home', 'home'), ('Back', 'Back to previous …"
      ]
     },
     "metadata": {},
     "output_type": "display_data"
    },
    {
     "data": {
      "text/plain": [
       "<sympy.plotting.plot.Plot at 0x79276e73abc0>"
      ]
     },
     "execution_count": 17,
     "metadata": {},
     "output_type": "execute_result"
    }
   ],
   "source": [
    "# Seems to work as expected, but I'd rather not calculate roots for each var pair.\n",
    "# Maybe it is not a problem, especially for higher moments the cost would be minimal.\n",
    "plot(sy.floor(index_to_row - 1), (_p, 0, 10))"
   ]
  },
  {
   "cell_type": "code",
   "execution_count": 18,
   "id": "212879a0-028a-4a32-be34-cdbeeee8a97f",
   "metadata": {},
   "outputs": [
    {
     "data": {
      "text/plain": [
       "24"
      ]
     },
     "execution_count": 18,
     "metadata": {},
     "output_type": "execute_result"
    }
   ],
   "source": [
    "# Insteaad of calculating by formula above we can pre-calculate row indices.\n",
    "# only need to calculate this sequence once for the biggest accumulator matrix size (up to 5k elements, maybe slightly more).\n",
    "# 2 options: calculate it in the GPU or calc it python and send it there.\n",
    "def row_starts():\n",
    "    p = 0\n",
    "    i = 0\n",
    "    while True:\n",
    "        i += p\n",
    "        yield i\n",
    "        p += 1\n",
    "\n",
    "\n",
    "starts = row_starts()\n",
    "# Number of bits an index needs to support 5000x5000 triangle matrix\n",
    "math.ceil(math.log2([next(starts) for _ in range(5001)][-1]))"
   ]
  },
  {
   "cell_type": "code",
   "execution_count": 19,
   "id": "a0bc092a-ed53-4596-baf2-c549c9bce6d6",
   "metadata": {},
   "outputs": [],
   "source": [
    "# Convert the accumulator triangle matrix into a numpy matrix.\n",
    "# Will need this for inspection / debugging.\n",
    "# Alternative implementation of this procedure can use np.tril_indices()\n",
    "def acc_to_numpy(nrows, acc):\n",
    "    out = np.zeros((nrows, nrows), dtype=dtype)\n",
    "    row_len = 1\n",
    "    idx = 0\n",
    "    for i in range(nrows):\n",
    "        for j in range(row_len):\n",
    "            out[i, j] = acc[idx]\n",
    "            idx += 1\n",
    "        row_len += 1\n",
    "    return out"
   ]
  },
  {
   "cell_type": "code",
   "execution_count": 20,
   "id": "751d3528-6266-4e35-8827-8537f4b39b72",
   "metadata": {},
   "outputs": [],
   "source": [
    "ck_pairs_update = cp.RawKernel(\n",
    "    r\"\"\"\n",
    "typedef double T;\n",
    "\n",
    "extern \"C\" __global__\n",
    "void update_pair(const int p, // Currently used also also as the cell size. \n",
    "               const int powers_idx_a, const int powers_idx_b, const int acc_idx, \n",
    "               const T* x_powers, T* acc) {\n",
    "               \n",
    "  // const int tid = blockDim.x * blockIdx.x + threadIdx.x; // DEBUG\n",
    "  // printf(\"SUB <%d (b=%d, t=%d)> # %d \\n\", tid, blockIdx.x, threadIdx.x, p);\n",
    "  \n",
    "  for (int pa = 0; pa < p; pa++) {\n",
    "    for (int pb = 0; pb < p; pb++) {\n",
    "      // TODO Could probably cast T[p][p] cell = (T[p][p])(&acc[acc_idx]) for convenience.\n",
    "      acc[acc_idx + pa * p + pb] += x_powers[powers_idx_a + pa] * x_powers[powers_idx_b + pb];\n",
    "     }\n",
    "  }\n",
    "}\n",
    "\n",
    "extern \"C\" __global__\n",
    "void pairs_update(const int n, const int p, const int* row_indexes, const T* x_powers, T* acc) {\n",
    "  const int tid = blockDim.x * blockIdx.x + threadIdx.x;\n",
    "  printf(\"<%d (b=%d, t=%d)> # %d %d \\n\", tid, blockIdx.x, threadIdx.x, n, p);\n",
    "  \n",
    "  const int row_i = tid;\n",
    "  const int next_row_i = row_indexes[row_i + 1];\n",
    "  int acc_i = row_indexes[row_i];\n",
    "  int col_i = 0;\n",
    "  for (; acc_i < next_row_i; acc_i++) { \n",
    "    update_pair(p, row_i, col_i, acc_i, x_powers, acc);\n",
    "  }\n",
    "}\n",
    "\"\"\",\n",
    "    \"pairs_update\",\n",
    ")"
   ]
  },
  {
   "cell_type": "code",
   "execution_count": 22,
   "id": "acf64400-c10a-4874-8537-3a6e323b5cb2",
   "metadata": {},
   "outputs": [
    {
     "name": "stdout",
     "output_type": "stream",
     "text": [
      "[ 0  1  3  6 10 15]\n",
      "1 5\n",
      "[ 1.  1.  2.  3.  4.  5.  6.  7.  8.  9. 12. 16. 19. 24. 31. 37. 40. 48.\n",
      " 56. 60. 64. 68. 72. 72. 72. 72. 64. 48. 32. 16.  0.  0.  0.  0.  0.  0.\n",
      "  0.  0.  0.  0.  0.  0.  0.  0.  0.  0.  0.  0.  0.  0.  0.  0.  0.  0.\n",
      "  0.  0.  0.  0.  0.  0.]\n",
      "<0 (b=0, t=0)> # 5 4 \n",
      "<1 (b=0, t=1)> # 5 4 \n",
      "<2 (b=0, t=2)> # 5 4 \n",
      "<3 (b=0, t=3)> # 5 4 \n",
      "<4 (b=0, t=4)> # 5 4 \n",
      "[[ 1.  0.  0.  0.  0.]\n",
      " [ 1.  2.  0.  0.  0.]\n",
      " [ 3.  4.  5.  0.  0.]\n",
      " [ 6.  7.  8.  9.  0.]\n",
      " [12. 16. 19. 24. 31.]]\n"
     ]
    }
   ],
   "source": [
    "starts = row_starts()\n",
    "row_index = np.array([next(starts) for _ in range(n + 1)], dtype=np.uint32)\n",
    "print(row_index)\n",
    "assert row_index[-1] == math.floor((n + 1) * n / 2)\n",
    "cell_size = p\n",
    "\n",
    "row_indexes = cp.array(row_index, dtype=cp.uint32)\n",
    "acc = cp.zeros((row_index[-1] * cell_size,), dtype=dtype)\n",
    "\n",
    "bs = min(ck_pairs_update.max_threads_per_block, n)\n",
    "b = n // bs\n",
    "if n % bs != 0:\n",
    "    b += 1\n",
    "print(b, bs)\n",
    "ck_pairs_update(\n",
    "    (b,), (bs,), (n, p, row_indexes, x_powers, acc)\n",
    ")  # grid (number of blocks), block size and arguments\n",
    "print(acc)\n",
    "print(acc_to_numpy(n, acc))"
   ]
  },
  {
   "cell_type": "code",
   "execution_count": null,
   "id": "b3a5667d-9c9a-4046-9d19-43a78c2f9cc0",
   "metadata": {},
   "outputs": [],
   "source": []
  }
 ],
 "metadata": {
  "kernelspec": {
   "display_name": "statmoments-venv",
   "language": "python",
   "name": "statmoments-venv"
  },
  "language_info": {
   "codemirror_mode": {
    "name": "ipython",
    "version": 3
   },
   "file_extension": ".py",
   "mimetype": "text/x-python",
   "name": "python",
   "nbconvert_exporter": "python",
   "pygments_lexer": "ipython3",
   "version": "3.10.12"
  }
 },
 "nbformat": 4,
 "nbformat_minor": 5
}
