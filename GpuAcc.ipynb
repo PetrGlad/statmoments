{
 "cells": [
  {
   "cell_type": "code",
   "execution_count": 2,
   "id": "86da56ff-d661-4ac7-b191-86f228228042",
   "metadata": {},
   "outputs": [],
   "source": [
    "# !pip install ipympl\n",
    "# pip install black isort jupyterlab-code-formatter"
   ]
  },
  {
   "cell_type": "code",
   "execution_count": 3,
   "id": "04586951",
   "metadata": {},
   "outputs": [
    {
     "data": {
      "text/plain": [
       "(<CUDA Device 0>, '86', <Stream 0 (device -1)>)"
      ]
     },
     "execution_count": 3,
     "metadata": {},
     "output_type": "execute_result"
    }
   ],
   "source": [
    "%matplotlib widget\n",
    "import cupy as cp\n",
    "import matplotlib.pyplot as plt\n",
    "import numpy as np\n",
    "import scipy as sp\n",
    "import scipy.linalg.blas as sblas\n",
    "import sympy as sy\n",
    "\n",
    "cp.cuda.Device(), cp.cuda.device.get_compute_capability(), cp.cuda.get_current_stream()"
   ]
  },
  {
   "cell_type": "code",
   "execution_count": 4,
   "id": "9a5e4431",
   "metadata": {},
   "outputs": [],
   "source": [
    "x_cpu = np.array([1, 2, 3])\n",
    "y_cpu = np.array([4, 5, 6])\n",
    "x_gpu = cp.asarray(x_cpu)"
   ]
  },
  {
   "cell_type": "code",
   "execution_count": 5,
   "id": "1bc4076f",
   "metadata": {},
   "outputs": [
    {
     "data": {
      "text/plain": [
       "array([5, 7, 9])"
      ]
     },
     "execution_count": 5,
     "metadata": {},
     "output_type": "execute_result"
    }
   ],
   "source": [
    "cp.asnumpy(x_gpu) + y_cpu"
   ]
  },
  {
   "cell_type": "code",
   "execution_count": 6,
   "id": "478f6cdf",
   "metadata": {},
   "outputs": [
    {
     "data": {
      "text/plain": [
       "array([5, 7, 9])"
      ]
     },
     "execution_count": 6,
     "metadata": {},
     "output_type": "execute_result"
    }
   ],
   "source": [
    "x_gpu + cp.asarray(y_cpu)"
   ]
  },
  {
   "cell_type": "code",
   "execution_count": 7,
   "id": "86b4597c",
   "metadata": {},
   "outputs": [],
   "source": [
    "sg_all = cp.asarray([])\n",
    "s_cpall = cp.asnumpy(sg_all)"
   ]
  },
  {
   "cell_type": "code",
   "execution_count": 8,
   "id": "bd2d68f4",
   "metadata": {},
   "outputs": [],
   "source": [
    "# plt.plot([1, 34, 23, 55, 8])\n",
    "# plt.show()"
   ]
  },
  {
   "cell_type": "code",
   "execution_count": 9,
   "id": "44c75804",
   "metadata": {},
   "outputs": [
    {
     "data": {
      "text/plain": [
       "array([[ 42,  45,  48],\n",
       "       [150, 162, 174],\n",
       "       [258, 279, 300]])"
      ]
     },
     "execution_count": 9,
     "metadata": {},
     "output_type": "execute_result"
    }
   ],
   "source": [
    "import cupy\n",
    "\n",
    "x = cupy.array(range(9)).reshape((3, 3))\n",
    "y = cupy.array(range(9, 18)).reshape((3, 3))\n",
    "expected = cupy.matmul(x, y)\n",
    "cupy.cuda.Device().synchronize()\n",
    "\n",
    "stream = cupy.cuda.stream.Stream()\n",
    "with stream:\n",
    "    for k in range(10000):\n",
    "        z = cupy.matmul(x, y)\n",
    "stream.synchronize()\n",
    "cupy.testing.assert_array_equal(z, expected)\n",
    "\n",
    "stream = cupy.cuda.stream.Stream()\n",
    "stream.use()\n",
    "z = cupy.matmul(x, y)\n",
    "stream.synchronize()\n",
    "cupy.testing.assert_array_equal(z, expected)\n",
    "z"
   ]
  },
  {
   "cell_type": "code",
   "execution_count": 10,
   "id": "3ae00940-810a-490f-a395-953ce9ed3108",
   "metadata": {},
   "outputs": [
    {
     "data": {
      "text/plain": [
       "array([[ 0.,  2.,  4.],\n",
       "       [ 0.,  4., 10.]])"
      ]
     },
     "execution_count": 10,
     "metadata": {},
     "output_type": "execute_result"
    }
   ],
   "source": [
    "# https://docs.cupy.dev/en/stable/user_guide/kernel.html\n",
    "# EXAMPLE\n",
    "kernel = cp.ElementwiseKernel(\n",
    "    \"T x, T y\",\n",
    "    \"T z\",\n",
    "    \"\"\"\n",
    "     if (x - 2 > y) {\n",
    "       z = x * y;\n",
    "     } else {\n",
    "       z = x + y;\n",
    "     }\n",
    "     \"\"\",\n",
    "    \"my_kernel\",\n",
    ")\n",
    "\n",
    "x = cp.arange(6, dtype=\"d\").reshape(2, 3)\n",
    "y = cp.arange(3, dtype=\"d\")\n",
    "kernel(x, y)"
   ]
  },
  {
   "cell_type": "code",
   "execution_count": 24,
   "id": "58cb8360-877b-4da6-81ed-1ac94003d845",
   "metadata": {},
   "outputs": [
    {
     "data": {
      "text/plain": [
       "array([[ 0.,  2.,  4.,  6.,  8.],\n",
       "       [10., 12., 14., 16., 18.],\n",
       "       [20., 22., 24., 26., 28.],\n",
       "       [30., 32., 34., 36., 38.],\n",
       "       [40., 42., 44., 46., 48.]], dtype=float32)"
      ]
     },
     "execution_count": 24,
     "metadata": {},
     "output_type": "execute_result"
    }
   ],
   "source": [
    "# EXAMPLE\n",
    "add_kernel = cp.RawKernel(\n",
    "    r\"\"\"\n",
    "typedef float T;\n",
    "\n",
    "extern \"C\" __global__\n",
    "void my_add(const T* x1, const T* x2, T* y) {\n",
    "    int tid = blockDim.x * blockIdx.x + threadIdx.x;\n",
    "    y[tid] = x1[tid] + x2[tid];\n",
    "}\n",
    "\"\"\",\n",
    "    \"my_add\",\n",
    ")\n",
    "x1 = cp.arange(25, dtype=cp.float32).reshape(5, 5)\n",
    "x2 = cp.arange(25, dtype=cp.float32).reshape(5, 5)\n",
    "y = cp.zeros((5, 5), dtype=cp.float32)\n",
    "add_kernel((5,), (5,), (x1, x2, y))  # grid, block and arguments\n",
    "\n",
    "y"
   ]
  },
  {
   "cell_type": "code",
   "execution_count": 55,
   "id": "fff2c6ca-bb52-4a17-9cbc-5bc6cd2477ec",
   "metadata": {},
   "outputs": [],
   "source": [
    "# cp.cuda.Device().attributes"
   ]
  },
  {
   "cell_type": "code",
   "execution_count": 104,
   "id": "d44463b5-04e6-4099-9e52-842dde4ff706",
   "metadata": {},
   "outputs": [
    {
     "name": "stdout",
     "output_type": "stream",
     "text": [
      "[1.000e+00 2.000e+00 3.000e+00 ... 9.998e+03 9.999e+03 1.000e+04]\n",
      "{'max_threads_per_block': 1024, 'shared_size_bytes': 0, 'const_size_bytes': 0, 'local_size_bytes': 0, 'num_regs': 18, 'ptx_version': 86, 'binary_version': 86, 'cache_mode_ca': 0, 'max_dynamic_shared_size_bytes': 49152, 'preferred_shared_memory_carveout': -1}\n",
      "10 1024\n",
      "3.46 µs ± 89.3 ns per loop (mean ± std. dev. of 7 runs, 100,000 loops each)\n",
      "[1.e+00 1.e+00 1.e+00 ... 1.e+08 1.e+12 1.e+16]\n"
     ]
    }
   ],
   "source": [
    "powers = cp.RawKernel(\n",
    "    r\"\"\"\n",
    "typedef float T;\n",
    "\n",
    "extern \"C\" __global__\n",
    "void powers(const int p, const T* x, T* y) {\n",
    "    const int tid = blockDim.x * blockIdx.x + threadIdx.x;\n",
    "    T c = x[tid];\n",
    "    int n = p;\n",
    "    int i = tid * p;\n",
    "    while (true) {\n",
    "        // printf(\"<%d (b=%d, t=%d)> [%d] at %d = %f # %d\\n\", tid, blockIdx.x, threadIdx.x, i, n, c, p);\n",
    "        y[i++] = c;\n",
    "        if (n <= 1) break;\n",
    "        n--;\n",
    "        c *= x[tid];\n",
    "    }\n",
    "}\n",
    "\"\"\",\n",
    "    \"powers\",\n",
    ")\n",
    "n = 5000\n",
    "p = 4\n",
    "yn = p * n\n",
    "try:\n",
    "    x = cp.arange(n, dtype=cp.float32) + 1\n",
    "    print(x)\n",
    "    y = cp.zeros((yn,), dtype=cp.float32)\n",
    "    print(powers.attributes)\n",
    "\n",
    "    bs = min(powers.max_threads_per_block, n)\n",
    "    b = n // bs\n",
    "    if n % bs != 0:\n",
    "        b += 1\n",
    "    print(b, bs)\n",
    "\n",
    "    %timeit powers((b,), (bs,), (p, x, y))  # grid (number of blocks), block and arguments\n",
    "    print(y)\n",
    "finally:\n",
    "    del x\n",
    "    del y"
   ]
  },
  {
   "cell_type": "code",
   "execution_count": 98,
   "id": "d29c4e36-a9b9-4fd1-8bee-346f7283b65e",
   "metadata": {},
   "outputs": [
    {
     "data": {
      "text/plain": [
       "285714.28571428574"
      ]
     },
     "execution_count": 98,
     "metadata": {},
     "output_type": "execute_result"
    }
   ],
   "source": [
    "1 / 3.5e-6"
   ]
  },
  {
   "cell_type": "code",
   "execution_count": 99,
   "id": "7f518644-ebbd-4068-8ce4-fc850542487b",
   "metadata": {},
   "outputs": [
    {
     "data": {
      "text/plain": [
       "165.24466377703678"
      ]
     },
     "execution_count": 99,
     "metadata": {},
     "output_type": "execute_result"
    }
   ],
   "source": [
    "1 / 0.006051632634559937"
   ]
  }
 ],
 "metadata": {
  "kernelspec": {
   "display_name": "statmoments-venv",
   "language": "python",
   "name": "statmoments-venv"
  },
  "language_info": {
   "codemirror_mode": {
    "name": "ipython",
    "version": 3
   },
   "file_extension": ".py",
   "mimetype": "text/x-python",
   "name": "python",
   "nbconvert_exporter": "python",
   "pygments_lexer": "ipython3",
   "version": "3.10.12"
  }
 },
 "nbformat": 4,
 "nbformat_minor": 5
}
